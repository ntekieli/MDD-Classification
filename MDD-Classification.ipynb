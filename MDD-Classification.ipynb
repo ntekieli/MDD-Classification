{
 "cells": [
  {
   "cell_type": "code",
   "execution_count": 11,
   "metadata": {},
   "outputs": [
    {
     "data": {
      "text/plain": [
       "'C:\\\\Users\\\\Nicol\\\\AppData\\\\Local\\\\Microsoft\\\\WindowsApps\\\\PythonSoftwareFoundation.Python.3.10_qbz5n2kfra8p0\\\\python.exe'"
      ]
     },
     "execution_count": 11,
     "metadata": {},
     "output_type": "execute_result"
    }
   ],
   "source": [
    "import sys\n",
    "sys.executable"
   ]
  },
  {
   "cell_type": "code",
   "execution_count": 12,
   "metadata": {},
   "outputs": [],
   "source": [
    "import numpy as np\n",
    "import sklearn\n",
    "from sklearn import model_selection\n",
    "import matplotlib as mpl\n",
    "import scipy as sp\n",
    "import pandas as pd\n",
    "import os"
   ]
  },
  {
   "cell_type": "code",
   "execution_count": 13,
   "metadata": {},
   "outputs": [],
   "source": [
    "# Function that we use to plot surfaces for visualization of parameters or features\n",
    "def surf(Z, colormap, X=None, Y=None):\n",
    "    import numpy as np\n",
    "    import matplotlib.pyplot as pplot\n",
    "    \n",
    "    # We adjust the size of X and Y so that we show the ENTIRE grid Z\n",
    "    if X is None:\n",
    "        X = np.arange(Z.shape[1] + 1)\n",
    "    if Y is None:\n",
    "        Y = np.arange(Z.shape[0] + 1)\n",
    "\n",
    "    # Set the figure and axis variables\n",
    "    fig = pplot.figure()\n",
    "    ax = fig.gca()\n",
    "    \n",
    "    # Display the mesh\n",
    "    mysurf = ax.pcolormesh(X, Y, Z, shading = 'flat', vmin=Z.min(),\n",
    "                                 vmax = Z.max(),cmap = colormap)\n",
    "    \n",
    "    # Display the colorbar for the mesh axis\n",
    "    fig.colorbar(mysurf, ax=ax)\n",
    "    \n",
    "    return surf\n",
    "\n",
    "# Function that we use to tune our REGRESSION models using a specified Validation proportion of our Training Set\n",
    "def TuningModels(models, X, Y, val_size, iterations = 100):\n",
    "    import numpy as np\n",
    "    from sklearn.model_selection import train_test_split\n",
    "    from sklearn import metrics\n",
    "    results = {}\n",
    "    for i in models:\n",
    "        metric_train = []\n",
    "        metric_val = []\n",
    "        for j in range(iterations):\n",
    "            X_train, X_val, y_train, y_val = train_test_split(X,Y,test_size = val_size)\n",
    "            metric_val.append(metrics.mean_squared_error(y_val,\n",
    "                                                     models[i].fit(X_train,\n",
    "                                                                   y_train).predict(X_val)))\n",
    "            metric_train.append(metrics.mean_squared_error(y_train,\n",
    "                                                       models[i].fit(X_train, \n",
    "                                                                     y_train).predict(X_train)))\n",
    "        results[i] = [np.mean(metric_train), np.mean(metric_val)]\n",
    "    return results\n",
    "\n",
    "# Function that we use to tune our CLASSIFICATION models using a specified Validation proportion of our Training Set\n",
    "def TuningModelsClassif(models,X,Y,val_size,iterations=100):\n",
    "    import numpy as np\n",
    "    from sklearn.model_selection import train_test_split\n",
    "    from sklearn import metrics\n",
    "    results = {}\n",
    "    for i in models:\n",
    "        metric_train = []\n",
    "        metric_val = []\n",
    "        for j in range(iterations):\n",
    "            X_train, X_val, y_train, y_val = train_test_split(X,Y,test_size = val_size)\n",
    "            metric_val.append(metrics.f1_score(y_val,\n",
    "                                               models[i].fit(X_train,\n",
    "                                                             y_train).predict(X_val)))\n",
    "            metric_train.append(metrics.f1_score(y_train,\n",
    "                                                 models[i].fit(X_train, \n",
    "                                                                     y_train).predict(X_train)))\n",
    "        results[i] = [np.mean(metric_train), np.mean(metric_val)]\n",
    "    return results"
   ]
  },
  {
   "cell_type": "code",
   "execution_count": 36,
   "metadata": {},
   "outputs": [],
   "source": [
    "# Function to calculate the SFScore using kmeans\n",
    "def SFScore_kmeans(InData,kval):\n",
    "    # Will return WCD, BCD, SF, and SI\n",
    "    # Saitta et al. (2008): Intelligent Data Analysis 12 (2008) 529–548 529\n",
    "    # \"A comprehensive validity index for clustering\"\n",
    "    from sklearn.cluster import KMeans\n",
    "    from sklearn.preprocessing import scale\n",
    "    from sklearn.metrics import silhouette_score as SI\n",
    "    from numpy.matlib import repmat\n",
    "    import numpy as np\n",
    "    \n",
    "    NValues = InData.shape[0]\n",
    "    scaleData = scale(InData,axis=0)\n",
    "    \n",
    "    sk_KMeans = KMeans(n_clusters = kval,\n",
    "                       init = 'k-means++',\n",
    "                       n_init = 1,\n",
    "                       max_iter = 1000,\n",
    "                       tol = 1e-10,\n",
    "                       verbose = 0,\n",
    "                       algorithm = \"auto\")\n",
    "    sk_KMeans.fit(scaleData)\n",
    "    pred_classes_sk = sk_KMeans.labels_\n",
    "    sk_centroids = sk_KMeans.cluster_centers_\n",
    "    \n",
    "    # The code below is not efficient. However, it breaks down the steps so that they should be comprehensible.\n",
    "    # If you found that your own code repeatedly gave you values of Infinity, then\n",
    "    # you did not fully comprehend the paper's equations and you were not able to\n",
    "    # successfully translate the equations into ML code\n",
    "    # Please go through this code and see where you were making mistakes.\n",
    "    \n",
    "    # Calculate within cluster distance (WCD)\n",
    "    # Saitta et al. (2008): Intelligent Data Analysis 12 (2008) 529–548 529\n",
    "    # \"A comprehensive validity index for clustering\"\n",
    "    # Equation 11\n",
    "    InClust_WCD = np.empty(shape=(kval,1))\n",
    "    AllNValuesInCluster = np.empty(shape=(kval,1),dtype=int)\n",
    "    for clust_num in range(0,kval):\n",
    "        clust_indices = np.where(pred_classes_sk == clust_num)\n",
    "        clust_data = np.squeeze(scaleData[clust_indices,:])\n",
    "        # Keep in mind Features go across columns, cases down rows\n",
    "        NValuesInCluster = np.size(clust_indices)\n",
    "        RepMat = repmat(sk_centroids[clust_num,:],NValuesInCluster,1)\n",
    "        InClust_WCD[clust_num] = np.sqrt((1/NValuesInCluster) * np.sum(np.sum(np.square(clust_data - RepMat),1))) # In Square Root in Equation 11\n",
    "        AllNValuesInCluster[clust_num] = NValuesInCluster\n",
    "    WCD = (1/kval) * np.sum(InClust_WCD) # From Equation 11\n",
    "    \n",
    "    # Calculate between cluster distance (BCD)\n",
    "    # Saitta et al. (2008): Intelligent Data Analysis 12 (2008) 529–548 529\n",
    "    # \"A comprehensive validity index for clustering\"\n",
    "    # Equation 10\n",
    "    AllCentroid = np.mean(scaleData,axis=0) # Should be near 0 for each feature due to centering & scaling\n",
    "    RepMat2 = repmat(AllCentroid,kval,1)\n",
    "    BCD1 = np.sum(np.square(sk_centroids - RepMat2),axis=1)\n",
    "    BCD2 = np.multiply(AllNValuesInCluster.transpose(),BCD1) # Element-by-Element Multiplication\n",
    "    BCD3 = np.sum(BCD2)\n",
    "    BCD = (1/(NValues*kval)) * BCD3\n",
    "    \n",
    "    SFScore = 1 - (1/(np.exp(np.exp(BCD - WCD))))\n",
    "    \n",
    "    SIScore = SI(scaleData,pred_classes_sk)\n",
    "    \n",
    "    # Return the important values\n",
    "    return WCD, BCD, SFScore, SIScore"
   ]
  },
  {
   "cell_type": "code",
   "execution_count": 15,
   "metadata": {},
   "outputs": [
    {
     "name": "stderr",
     "output_type": "stream",
     "text": [
      "C:\\Users\\Nicol\\AppData\\Local\\Temp\\ipykernel_8600\\2910561263.py:12: VisibleDeprecationWarning: Creating an ndarray from ragged nested sequences (which is a list-or-tuple of lists-or-tuples-or ndarrays with different lengths or shapes) is deprecated. If you meant to do this, you must specify 'dtype=object' when creating the ndarray.\n",
      "  temp3 = np.array(temp2)\n"
     ]
    }
   ],
   "source": [
    "# Get ready to import the .mat file with the EEG data features\n",
    "# DataDir = '/Users/Nicol/OneDrive - g.hmc.edu/FA2022/NEUR182/'\n",
    "DataDir = '/Users/Nicol/OneDrive - g.hmc.edu/FA2022/NEUR182/'\n",
    "DataFileName = 'C1_EncMain_FeatureData.mat'\n",
    "FullDataFileName = os.path.join(DataDir,DataFileName)\n",
    "import scipy.io\n",
    "# Import the data\n",
    "FeatDataDict = scipy.io.loadmat(FullDataFileName)\n",
    "# Convert to numpy array\n",
    "temp1 = FeatDataDict.items()\n",
    "temp2 = list(temp1)\n",
    "temp3 = np.array(temp2)\n",
    "temp4 = temp3[3]\n",
    "FeatData = temp4[1]\n",
    "\n",
    "\n"
   ]
  },
  {
   "cell_type": "code",
   "execution_count": 17,
   "metadata": {},
   "outputs": [],
   "source": [
    "DataDir = '/Users/Nicol/OneDrive - g.hmc.edu/FA2022/NEUR182/'\n",
    "DataFileNameFeat = 'MDDXFeatures.csv'\n",
    "FullDataFileName = os.path.join(DataDir,DataFileNameFeat)\n",
    "\n",
    "PVs = np.genfromtxt(FullDataFileName, dtype=float, delimiter=',')\n",
    "\n",
    "DataFileName_HvMDD = 'MDDY_HvMDD.csv'\n",
    "FullDataFileName = os.path.join(DataDir,DataFileName_HvMDD)\n",
    "\n",
    "OV_HvMDD = np.genfromtxt(FullDataFileName, dtype=float, delimiter=',')\n",
    "OV_HvMDD = [0 if x == 1 else 1 for x in OV_HvMDD]\n",
    "\n",
    "DataFileName_RvNR = 'MDDY_RvNR.csv'\n",
    "FullDataFileName = os.path.join(DataDir,DataFileName_RvNR)\n",
    "\n",
    "OV_RvNR = np.genfromtxt(FullDataFileName, dtype=float, delimiter=',')"
   ]
  },
  {
   "cell_type": "code",
   "execution_count": 129,
   "metadata": {},
   "outputs": [
    {
     "data": {
      "text/plain": [
       "[0,\n",
       " 0,\n",
       " 0,\n",
       " 0,\n",
       " 0,\n",
       " 0,\n",
       " 0,\n",
       " 0,\n",
       " 0,\n",
       " 0,\n",
       " 0,\n",
       " 0,\n",
       " 0,\n",
       " 0,\n",
       " 0,\n",
       " 0,\n",
       " 0,\n",
       " 0,\n",
       " 0,\n",
       " 0,\n",
       " 0,\n",
       " 0,\n",
       " 0,\n",
       " 0,\n",
       " 0,\n",
       " 1,\n",
       " 1,\n",
       " 1,\n",
       " 1,\n",
       " 1,\n",
       " 1,\n",
       " 1,\n",
       " 1,\n",
       " 1,\n",
       " 1,\n",
       " 1,\n",
       " 1,\n",
       " 1,\n",
       " 1,\n",
       " 1,\n",
       " 1,\n",
       " 1,\n",
       " 1,\n",
       " 1,\n",
       " 1,\n",
       " 1,\n",
       " 1,\n",
       " 1,\n",
       " 1,\n",
       " 1,\n",
       " 1]"
      ]
     },
     "execution_count": 129,
     "metadata": {},
     "output_type": "execute_result"
    }
   ],
   "source": [
    "OV_HvMDD"
   ]
  },
  {
   "cell_type": "code",
   "execution_count": 18,
   "metadata": {},
   "outputs": [],
   "source": [
    "#pipeline for scaling and centering\n",
    "from sklearn.pipeline import Pipeline\n",
    "from sklearn.preprocessing import MinMaxScaler\n",
    "\n",
    "scaling_pipeline = Pipeline([\n",
    "    ('std_scaler', MinMaxScaler())\n",
    "])"
   ]
  },
  {
   "cell_type": "code",
   "execution_count": 19,
   "metadata": {},
   "outputs": [],
   "source": [
    "PVs_scaled = scaling_pipeline.fit_transform(PVs)"
   ]
  },
  {
   "cell_type": "code",
   "execution_count": 82,
   "metadata": {},
   "outputs": [
    {
     "data": {
      "text/plain": [
       "[<matplotlib.lines.Line2D at 0x1dcf17e2860>]"
      ]
     },
     "execution_count": 82,
     "metadata": {},
     "output_type": "execute_result"
    },
    {
     "data": {
      "image/png": "[encoded data removed]",
      "text/plain": [
       "<Figure size 1080x576 with 9 Axes>"
      ]
     },
     "metadata": {},
     "output_type": "display_data"
    }
   ],
   "source": [
    "from yellowbrick.cluster import SilhouetteVisualizer\n",
    "import matplotlib.pyplot as plt\n",
    "from sklearn.cluster import KMeans\n",
    "\n",
    "init_method = 'k-means++'\n",
    "n_init = 100\n",
    "max_iter = 1000\n",
    "usetol = 1e-10\n",
    "verbose = 0\n",
    "random_state = 100\n",
    "algorithm = \"auto\"\n",
    "\n",
    "fig1, ax1 = plt.subplots(3, 3, figsize=(15,8))\n",
    "\n",
    "sf_scores = [0]*9\n",
    "si_scores = [0]*9\n",
    "for i in range(2,11):\n",
    "    km = KMeans(n_clusters = i,\n",
    "                   init = init_method,\n",
    "                   n_init = n_init,\n",
    "                   max_iter = max_iter,\n",
    "                   tol = usetol,\n",
    "                   verbose = verbose,\n",
    "                   random_state = random_state,\n",
    "                   algorithm = algorithm)\n",
    "\n",
    "    q, mod = divmod(i, 3)\n",
    "\n",
    "    visualizer = SilhouetteVisualizer(km, ax=ax1[q-1][mod])\n",
    "    visualizer.fit(PVs)\n",
    "\n",
    "    _, _, sf_scores[i-2], si_scores[i-2] = SFScore_kmeans(PVs, i)\n",
    "\n"
   ]
  },
  {
   "cell_type": "code",
   "execution_count": 85,
   "metadata": {},
   "outputs": [
    {
     "data": {
      "image/png": "[encoded data removed]",
      "text/plain": [
       "<Figure size 576x396 with 1 Axes>"
      ]
     },
     "metadata": {},
     "output_type": "display_data"
    }
   ],
   "source": [
    "plt.plot(range(2,11), sf_scores, label='SF')\n",
    "plt.plot(range(2,11), si_scores, label='SI')\n",
    "plt.xlabel('# of Clusters')\n",
    "plt.ylabel('Score Index Metric')\n",
    "plt.legend()\n",
    "plt.show()"
   ]
  },
  {
   "cell_type": "code",
   "execution_count": 24,
   "metadata": {},
   "outputs": [],
   "source": [
    "PV_train, PV_test = model_selection.train_test_split(PVs_scaled, test_size=0.2, random_state=42)\n",
    "OV_HvMDD_train, OV_HvMDD_test = model_selection.train_test_split(OV_HvMDD, test_size=0.2, random_state=42)\n",
    "OV_RvNR_train, OV_RvNR_test = model_selection.train_test_split(OV_RvNR, test_size=0.2, random_state=42)"
   ]
  },
  {
   "cell_type": "markdown",
   "metadata": {},
   "source": [
    "#  OLS Logistic and Multinomial Logistic Regression"
   ]
  },
  {
   "cell_type": "code",
   "execution_count": 91,
   "metadata": {},
   "outputs": [
    {
     "name": "stdout",
     "output_type": "stream",
     "text": [
      "OLS LogReg AUC = 0.45000000000000007\n",
      "OLS LogReg BalAcc = 0.45\n",
      "OLS LogReg F1 = 0.5\n"
     ]
    },
    {
     "data": {
      "text/plain": [
       "<sklearn.metrics._plot.confusion_matrix.ConfusionMatrixDisplay at 0x1dcf114ceb0>"
      ]
     },
     "execution_count": 91,
     "metadata": {},
     "output_type": "execute_result"
    },
    {
     "data": {
      "image/png": "[encoded data removed]",
      "text/plain": [
       "<Figure size 576x396 with 2 Axes>"
      ]
     },
     "metadata": {},
     "output_type": "display_data"
    }
   ],
   "source": [
    "from sklearn.linear_model import LogisticRegression\n",
    "from sklearn import metrics\n",
    "OLSLogReg = LogisticRegression(penalty = 'none', tol = 1e-3, random_state = 100, solver = 'lbfgs')\n",
    "OLSLogReg.fit(PV_train, OV_HvMDD_train)\n",
    "OLSLogRegPredictTest = OLSLogReg.predict(PV_test)\n",
    "OLSLogRegAUC = metrics.roc_auc_score(OV_HvMDD_test, OLSLogRegPredictTest)\n",
    "print('OLS LogReg AUC = ' + str(OLSLogRegAUC))\n",
    "OLSLogRegBalAcc = metrics.balanced_accuracy_score(OV_HvMDD_test,OLSLogRegPredictTest)\n",
    "print('OLS LogReg BalAcc = ' + str(OLSLogRegBalAcc))\n",
    "OLSLogRegF1 = metrics.f1_score(OV_HvMDD_test,OLSLogRegPredictTest)\n",
    "print('OLS LogReg F1 = ' + str(OLSLogRegF1))\n",
    "\n",
    "metrics.ConfusionMatrixDisplay(metrics.confusion_matrix(OV_HvMDD_test, OLSLogRegPredictTest)).plot()"
   ]
  },
  {
   "cell_type": "code",
   "execution_count": null,
   "metadata": {},
   "outputs": [],
   "source": [
    "print('F1 score:', metrics.f1_score(y_true, y_pred))\n",
    "print('Balanced Accuracy:', metrics.balanced_accuracy_score(y_true, y_pred))\n",
    "print('Matthews Correlation Coefficient:', metrics.matthews_corrcoef(y_true, y_pred))\n",
    "print('Log Loss:', metrics.log_loss(y_true, y_pred))\n",
    "\n",
    "metrics.ConfusionMatrixDisplay(metrics.confusion_matrix(y_true, y_pred)).plot()"
   ]
  },
  {
   "cell_type": "code",
   "execution_count": 130,
   "metadata": {},
   "outputs": [
    {
     "name": "stderr",
     "output_type": "stream",
     "text": [
      "C:\\Users\\Nicol\\AppData\\Local\\Packages\\PythonSoftwareFoundation.Python.3.10_qbz5n2kfra8p0\\LocalCache\\local-packages\\Python310\\site-packages\\sklearn\\linear_model\\_sag.py:352: ConvergenceWarning: The max_iter was reached which means the coef_ did not converge\n",
      "  warnings.warn(\n",
      "C:\\Users\\Nicol\\AppData\\Local\\Packages\\PythonSoftwareFoundation.Python.3.10_qbz5n2kfra8p0\\LocalCache\\local-packages\\Python310\\site-packages\\sklearn\\linear_model\\_sag.py:352: ConvergenceWarning: The max_iter was reached which means the coef_ did not converge\n",
      "  warnings.warn(\n",
      "C:\\Users\\Nicol\\AppData\\Local\\Packages\\PythonSoftwareFoundation.Python.3.10_qbz5n2kfra8p0\\LocalCache\\local-packages\\Python310\\site-packages\\sklearn\\linear_model\\_sag.py:352: ConvergenceWarning: The max_iter was reached which means the coef_ did not converge\n",
      "  warnings.warn(\n",
      "C:\\Users\\Nicol\\AppData\\Local\\Packages\\PythonSoftwareFoundation.Python.3.10_qbz5n2kfra8p0\\LocalCache\\local-packages\\Python310\\site-packages\\sklearn\\linear_model\\_sag.py:352: ConvergenceWarning: The max_iter was reached which means the coef_ did not converge\n",
      "  warnings.warn(\n",
      "C:\\Users\\Nicol\\AppData\\Local\\Packages\\PythonSoftwareFoundation.Python.3.10_qbz5n2kfra8p0\\LocalCache\\local-packages\\Python310\\site-packages\\sklearn\\linear_model\\_sag.py:352: ConvergenceWarning: The max_iter was reached which means the coef_ did not converge\n",
      "  warnings.warn(\n",
      "C:\\Users\\Nicol\\AppData\\Local\\Packages\\PythonSoftwareFoundation.Python.3.10_qbz5n2kfra8p0\\LocalCache\\local-packages\\Python310\\site-packages\\sklearn\\linear_model\\_sag.py:352: ConvergenceWarning: The max_iter was reached which means the coef_ did not converge\n",
      "  warnings.warn(\n",
      "C:\\Users\\Nicol\\AppData\\Local\\Packages\\PythonSoftwareFoundation.Python.3.10_qbz5n2kfra8p0\\LocalCache\\local-packages\\Python310\\site-packages\\sklearn\\linear_model\\_sag.py:352: ConvergenceWarning: The max_iter was reached which means the coef_ did not converge\n",
      "  warnings.warn(\n",
      "C:\\Users\\Nicol\\AppData\\Local\\Packages\\PythonSoftwareFoundation.Python.3.10_qbz5n2kfra8p0\\LocalCache\\local-packages\\Python310\\site-packages\\sklearn\\linear_model\\_sag.py:352: ConvergenceWarning: The max_iter was reached which means the coef_ did not converge\n",
      "  warnings.warn(\n",
      "C:\\Users\\Nicol\\AppData\\Local\\Packages\\PythonSoftwareFoundation.Python.3.10_qbz5n2kfra8p0\\LocalCache\\local-packages\\Python310\\site-packages\\sklearn\\linear_model\\_sag.py:352: ConvergenceWarning: The max_iter was reached which means the coef_ did not converge\n",
      "  warnings.warn(\n",
      "C:\\Users\\Nicol\\AppData\\Local\\Packages\\PythonSoftwareFoundation.Python.3.10_qbz5n2kfra8p0\\LocalCache\\local-packages\\Python310\\site-packages\\sklearn\\linear_model\\_sag.py:352: ConvergenceWarning: The max_iter was reached which means the coef_ did not converge\n",
      "  warnings.warn(\n",
      "C:\\Users\\Nicol\\AppData\\Local\\Packages\\PythonSoftwareFoundation.Python.3.10_qbz5n2kfra8p0\\LocalCache\\local-packages\\Python310\\site-packages\\sklearn\\linear_model\\_sag.py:352: ConvergenceWarning: The max_iter was reached which means the coef_ did not converge\n",
      "  warnings.warn(\n",
      "C:\\Users\\Nicol\\AppData\\Local\\Packages\\PythonSoftwareFoundation.Python.3.10_qbz5n2kfra8p0\\LocalCache\\local-packages\\Python310\\site-packages\\sklearn\\linear_model\\_sag.py:352: ConvergenceWarning: The max_iter was reached which means the coef_ did not converge\n",
      "  warnings.warn(\n",
      "C:\\Users\\Nicol\\AppData\\Local\\Packages\\PythonSoftwareFoundation.Python.3.10_qbz5n2kfra8p0\\LocalCache\\local-packages\\Python310\\site-packages\\sklearn\\linear_model\\_sag.py:352: ConvergenceWarning: The max_iter was reached which means the coef_ did not converge\n",
      "  warnings.warn(\n",
      "C:\\Users\\Nicol\\AppData\\Local\\Packages\\PythonSoftwareFoundation.Python.3.10_qbz5n2kfra8p0\\LocalCache\\local-packages\\Python310\\site-packages\\sklearn\\linear_model\\_sag.py:352: ConvergenceWarning: The max_iter was reached which means the coef_ did not converge\n",
      "  warnings.warn(\n",
      "C:\\Users\\Nicol\\AppData\\Local\\Packages\\PythonSoftwareFoundation.Python.3.10_qbz5n2kfra8p0\\LocalCache\\local-packages\\Python310\\site-packages\\sklearn\\linear_model\\_sag.py:352: ConvergenceWarning: The max_iter was reached which means the coef_ did not converge\n",
      "  warnings.warn(\n",
      "C:\\Users\\Nicol\\AppData\\Local\\Packages\\PythonSoftwareFoundation.Python.3.10_qbz5n2kfra8p0\\LocalCache\\local-packages\\Python310\\site-packages\\sklearn\\linear_model\\_sag.py:352: ConvergenceWarning: The max_iter was reached which means the coef_ did not converge\n",
      "  warnings.warn(\n",
      "C:\\Users\\Nicol\\AppData\\Local\\Packages\\PythonSoftwareFoundation.Python.3.10_qbz5n2kfra8p0\\LocalCache\\local-packages\\Python310\\site-packages\\sklearn\\linear_model\\_sag.py:352: ConvergenceWarning: The max_iter was reached which means the coef_ did not converge\n",
      "  warnings.warn(\n",
      "C:\\Users\\Nicol\\AppData\\Local\\Packages\\PythonSoftwareFoundation.Python.3.10_qbz5n2kfra8p0\\LocalCache\\local-packages\\Python310\\site-packages\\sklearn\\linear_model\\_sag.py:352: ConvergenceWarning: The max_iter was reached which means the coef_ did not converge\n",
      "  warnings.warn(\n",
      "C:\\Users\\Nicol\\AppData\\Local\\Packages\\PythonSoftwareFoundation.Python.3.10_qbz5n2kfra8p0\\LocalCache\\local-packages\\Python310\\site-packages\\sklearn\\linear_model\\_sag.py:352: ConvergenceWarning: The max_iter was reached which means the coef_ did not converge\n",
      "  warnings.warn(\n",
      "C:\\Users\\Nicol\\AppData\\Local\\Packages\\PythonSoftwareFoundation.Python.3.10_qbz5n2kfra8p0\\LocalCache\\local-packages\\Python310\\site-packages\\sklearn\\linear_model\\_sag.py:352: ConvergenceWarning: The max_iter was reached which means the coef_ did not converge\n",
      "  warnings.warn(\n",
      "C:\\Users\\Nicol\\AppData\\Local\\Packages\\PythonSoftwareFoundation.Python.3.10_qbz5n2kfra8p0\\LocalCache\\local-packages\\Python310\\site-packages\\sklearn\\linear_model\\_sag.py:352: ConvergenceWarning: The max_iter was reached which means the coef_ did not converge\n",
      "  warnings.warn(\n",
      "C:\\Users\\Nicol\\AppData\\Local\\Packages\\PythonSoftwareFoundation.Python.3.10_qbz5n2kfra8p0\\LocalCache\\local-packages\\Python310\\site-packages\\sklearn\\linear_model\\_sag.py:352: ConvergenceWarning: The max_iter was reached which means the coef_ did not converge\n",
      "  warnings.warn(\n",
      "C:\\Users\\Nicol\\AppData\\Local\\Packages\\PythonSoftwareFoundation.Python.3.10_qbz5n2kfra8p0\\LocalCache\\local-packages\\Python310\\site-packages\\sklearn\\linear_model\\_sag.py:352: ConvergenceWarning: The max_iter was reached which means the coef_ did not converge\n",
      "  warnings.warn(\n",
      "C:\\Users\\Nicol\\AppData\\Local\\Packages\\PythonSoftwareFoundation.Python.3.10_qbz5n2kfra8p0\\LocalCache\\local-packages\\Python310\\site-packages\\sklearn\\linear_model\\_sag.py:352: ConvergenceWarning: The max_iter was reached which means the coef_ did not converge\n",
      "  warnings.warn(\n",
      "C:\\Users\\Nicol\\AppData\\Local\\Packages\\PythonSoftwareFoundation.Python.3.10_qbz5n2kfra8p0\\LocalCache\\local-packages\\Python310\\site-packages\\sklearn\\linear_model\\_sag.py:352: ConvergenceWarning: The max_iter was reached which means the coef_ did not converge\n",
      "  warnings.warn(\n",
      "C:\\Users\\Nicol\\AppData\\Local\\Packages\\PythonSoftwareFoundation.Python.3.10_qbz5n2kfra8p0\\LocalCache\\local-packages\\Python310\\site-packages\\sklearn\\linear_model\\_sag.py:352: ConvergenceWarning: The max_iter was reached which means the coef_ did not converge\n",
      "  warnings.warn(\n",
      "C:\\Users\\Nicol\\AppData\\Local\\Packages\\PythonSoftwareFoundation.Python.3.10_qbz5n2kfra8p0\\LocalCache\\local-packages\\Python310\\site-packages\\sklearn\\linear_model\\_sag.py:352: ConvergenceWarning: The max_iter was reached which means the coef_ did not converge\n",
      "  warnings.warn(\n",
      "C:\\Users\\Nicol\\AppData\\Local\\Packages\\PythonSoftwareFoundation.Python.3.10_qbz5n2kfra8p0\\LocalCache\\local-packages\\Python310\\site-packages\\sklearn\\linear_model\\_sag.py:352: ConvergenceWarning: The max_iter was reached which means the coef_ did not converge\n",
      "  warnings.warn(\n",
      "C:\\Users\\Nicol\\AppData\\Local\\Packages\\PythonSoftwareFoundation.Python.3.10_qbz5n2kfra8p0\\LocalCache\\local-packages\\Python310\\site-packages\\sklearn\\linear_model\\_sag.py:352: ConvergenceWarning: The max_iter was reached which means the coef_ did not converge\n",
      "  warnings.warn(\n",
      "C:\\Users\\Nicol\\AppData\\Local\\Packages\\PythonSoftwareFoundation.Python.3.10_qbz5n2kfra8p0\\LocalCache\\local-packages\\Python310\\site-packages\\sklearn\\linear_model\\_sag.py:352: ConvergenceWarning: The max_iter was reached which means the coef_ did not converge\n",
      "  warnings.warn(\n",
      "C:\\Users\\Nicol\\AppData\\Local\\Packages\\PythonSoftwareFoundation.Python.3.10_qbz5n2kfra8p0\\LocalCache\\local-packages\\Python310\\site-packages\\sklearn\\linear_model\\_sag.py:352: ConvergenceWarning: The max_iter was reached which means the coef_ did not converge\n",
      "  warnings.warn(\n",
      "C:\\Users\\Nicol\\AppData\\Local\\Packages\\PythonSoftwareFoundation.Python.3.10_qbz5n2kfra8p0\\LocalCache\\local-packages\\Python310\\site-packages\\sklearn\\linear_model\\_sag.py:352: ConvergenceWarning: The max_iter was reached which means the coef_ did not converge\n",
      "  warnings.warn(\n",
      "C:\\Users\\Nicol\\AppData\\Local\\Packages\\PythonSoftwareFoundation.Python.3.10_qbz5n2kfra8p0\\LocalCache\\local-packages\\Python310\\site-packages\\sklearn\\linear_model\\_sag.py:352: ConvergenceWarning: The max_iter was reached which means the coef_ did not converge\n",
      "  warnings.warn(\n",
      "C:\\Users\\Nicol\\AppData\\Local\\Packages\\PythonSoftwareFoundation.Python.3.10_qbz5n2kfra8p0\\LocalCache\\local-packages\\Python310\\site-packages\\sklearn\\linear_model\\_sag.py:352: ConvergenceWarning: The max_iter was reached which means the coef_ did not converge\n",
      "  warnings.warn(\n",
      "C:\\Users\\Nicol\\AppData\\Local\\Packages\\PythonSoftwareFoundation.Python.3.10_qbz5n2kfra8p0\\LocalCache\\local-packages\\Python310\\site-packages\\sklearn\\linear_model\\_sag.py:352: ConvergenceWarning: The max_iter was reached which means the coef_ did not converge\n",
      "  warnings.warn(\n",
      "C:\\Users\\Nicol\\AppData\\Local\\Packages\\PythonSoftwareFoundation.Python.3.10_qbz5n2kfra8p0\\LocalCache\\local-packages\\Python310\\site-packages\\sklearn\\linear_model\\_sag.py:352: ConvergenceWarning: The max_iter was reached which means the coef_ did not converge\n",
      "  warnings.warn(\n",
      "C:\\Users\\Nicol\\AppData\\Local\\Packages\\PythonSoftwareFoundation.Python.3.10_qbz5n2kfra8p0\\LocalCache\\local-packages\\Python310\\site-packages\\sklearn\\linear_model\\_sag.py:352: ConvergenceWarning: The max_iter was reached which means the coef_ did not converge\n",
      "  warnings.warn(\n",
      "C:\\Users\\Nicol\\AppData\\Local\\Packages\\PythonSoftwareFoundation.Python.3.10_qbz5n2kfra8p0\\LocalCache\\local-packages\\Python310\\site-packages\\sklearn\\linear_model\\_sag.py:352: ConvergenceWarning: The max_iter was reached which means the coef_ did not converge\n",
      "  warnings.warn(\n",
      "C:\\Users\\Nicol\\AppData\\Local\\Packages\\PythonSoftwareFoundation.Python.3.10_qbz5n2kfra8p0\\LocalCache\\local-packages\\Python310\\site-packages\\sklearn\\linear_model\\_sag.py:352: ConvergenceWarning: The max_iter was reached which means the coef_ did not converge\n",
      "  warnings.warn(\n",
      "C:\\Users\\Nicol\\AppData\\Local\\Packages\\PythonSoftwareFoundation.Python.3.10_qbz5n2kfra8p0\\LocalCache\\local-packages\\Python310\\site-packages\\sklearn\\linear_model\\_sag.py:352: ConvergenceWarning: The max_iter was reached which means the coef_ did not converge\n",
      "  warnings.warn(\n",
      "C:\\Users\\Nicol\\AppData\\Local\\Packages\\PythonSoftwareFoundation.Python.3.10_qbz5n2kfra8p0\\LocalCache\\local-packages\\Python310\\site-packages\\sklearn\\linear_model\\_sag.py:352: ConvergenceWarning: The max_iter was reached which means the coef_ did not converge\n",
      "  warnings.warn(\n",
      "C:\\Users\\Nicol\\AppData\\Local\\Packages\\PythonSoftwareFoundation.Python.3.10_qbz5n2kfra8p0\\LocalCache\\local-packages\\Python310\\site-packages\\sklearn\\linear_model\\_sag.py:352: ConvergenceWarning: The max_iter was reached which means the coef_ did not converge\n",
      "  warnings.warn(\n",
      "C:\\Users\\Nicol\\AppData\\Local\\Packages\\PythonSoftwareFoundation.Python.3.10_qbz5n2kfra8p0\\LocalCache\\local-packages\\Python310\\site-packages\\sklearn\\linear_model\\_sag.py:352: ConvergenceWarning: The max_iter was reached which means the coef_ did not converge\n",
      "  warnings.warn(\n",
      "C:\\Users\\Nicol\\AppData\\Local\\Packages\\PythonSoftwareFoundation.Python.3.10_qbz5n2kfra8p0\\LocalCache\\local-packages\\Python310\\site-packages\\sklearn\\linear_model\\_sag.py:352: ConvergenceWarning: The max_iter was reached which means the coef_ did not converge\n",
      "  warnings.warn(\n",
      "C:\\Users\\Nicol\\AppData\\Local\\Packages\\PythonSoftwareFoundation.Python.3.10_qbz5n2kfra8p0\\LocalCache\\local-packages\\Python310\\site-packages\\sklearn\\linear_model\\_sag.py:352: ConvergenceWarning: The max_iter was reached which means the coef_ did not converge\n",
      "  warnings.warn(\n",
      "C:\\Users\\Nicol\\AppData\\Local\\Packages\\PythonSoftwareFoundation.Python.3.10_qbz5n2kfra8p0\\LocalCache\\local-packages\\Python310\\site-packages\\sklearn\\linear_model\\_sag.py:352: ConvergenceWarning: The max_iter was reached which means the coef_ did not converge\n",
      "  warnings.warn(\n",
      "C:\\Users\\Nicol\\AppData\\Local\\Packages\\PythonSoftwareFoundation.Python.3.10_qbz5n2kfra8p0\\LocalCache\\local-packages\\Python310\\site-packages\\sklearn\\linear_model\\_sag.py:352: ConvergenceWarning: The max_iter was reached which means the coef_ did not converge\n",
      "  warnings.warn(\n",
      "C:\\Users\\Nicol\\AppData\\Local\\Packages\\PythonSoftwareFoundation.Python.3.10_qbz5n2kfra8p0\\LocalCache\\local-packages\\Python310\\site-packages\\sklearn\\linear_model\\_sag.py:352: ConvergenceWarning: The max_iter was reached which means the coef_ did not converge\n",
      "  warnings.warn(\n",
      "C:\\Users\\Nicol\\AppData\\Local\\Packages\\PythonSoftwareFoundation.Python.3.10_qbz5n2kfra8p0\\LocalCache\\local-packages\\Python310\\site-packages\\sklearn\\linear_model\\_sag.py:352: ConvergenceWarning: The max_iter was reached which means the coef_ did not converge\n",
      "  warnings.warn(\n",
      "C:\\Users\\Nicol\\AppData\\Local\\Packages\\PythonSoftwareFoundation.Python.3.10_qbz5n2kfra8p0\\LocalCache\\local-packages\\Python310\\site-packages\\sklearn\\linear_model\\_sag.py:352: ConvergenceWarning: The max_iter was reached which means the coef_ did not converge\n",
      "  warnings.warn(\n",
      "C:\\Users\\Nicol\\AppData\\Local\\Packages\\PythonSoftwareFoundation.Python.3.10_qbz5n2kfra8p0\\LocalCache\\local-packages\\Python310\\site-packages\\sklearn\\linear_model\\_sag.py:352: ConvergenceWarning: The max_iter was reached which means the coef_ did not converge\n",
      "  warnings.warn(\n",
      "C:\\Users\\Nicol\\AppData\\Local\\Packages\\PythonSoftwareFoundation.Python.3.10_qbz5n2kfra8p0\\LocalCache\\local-packages\\Python310\\site-packages\\sklearn\\linear_model\\_sag.py:352: ConvergenceWarning: The max_iter was reached which means the coef_ did not converge\n",
      "  warnings.warn(\n",
      "C:\\Users\\Nicol\\AppData\\Local\\Packages\\PythonSoftwareFoundation.Python.3.10_qbz5n2kfra8p0\\LocalCache\\local-packages\\Python310\\site-packages\\sklearn\\linear_model\\_sag.py:352: ConvergenceWarning: The max_iter was reached which means the coef_ did not converge\n",
      "  warnings.warn(\n",
      "C:\\Users\\Nicol\\AppData\\Local\\Packages\\PythonSoftwareFoundation.Python.3.10_qbz5n2kfra8p0\\LocalCache\\local-packages\\Python310\\site-packages\\sklearn\\linear_model\\_sag.py:352: ConvergenceWarning: The max_iter was reached which means the coef_ did not converge\n",
      "  warnings.warn(\n",
      "C:\\Users\\Nicol\\AppData\\Local\\Packages\\PythonSoftwareFoundation.Python.3.10_qbz5n2kfra8p0\\LocalCache\\local-packages\\Python310\\site-packages\\sklearn\\linear_model\\_sag.py:352: ConvergenceWarning: The max_iter was reached which means the coef_ did not converge\n",
      "  warnings.warn(\n",
      "C:\\Users\\Nicol\\AppData\\Local\\Packages\\PythonSoftwareFoundation.Python.3.10_qbz5n2kfra8p0\\LocalCache\\local-packages\\Python310\\site-packages\\sklearn\\linear_model\\_sag.py:352: ConvergenceWarning: The max_iter was reached which means the coef_ did not converge\n",
      "  warnings.warn(\n",
      "C:\\Users\\Nicol\\AppData\\Local\\Packages\\PythonSoftwareFoundation.Python.3.10_qbz5n2kfra8p0\\LocalCache\\local-packages\\Python310\\site-packages\\sklearn\\linear_model\\_sag.py:352: ConvergenceWarning: The max_iter was reached which means the coef_ did not converge\n",
      "  warnings.warn(\n",
      "C:\\Users\\Nicol\\AppData\\Local\\Packages\\PythonSoftwareFoundation.Python.3.10_qbz5n2kfra8p0\\LocalCache\\local-packages\\Python310\\site-packages\\sklearn\\linear_model\\_sag.py:352: ConvergenceWarning: The max_iter was reached which means the coef_ did not converge\n",
      "  warnings.warn(\n",
      "C:\\Users\\Nicol\\AppData\\Local\\Packages\\PythonSoftwareFoundation.Python.3.10_qbz5n2kfra8p0\\LocalCache\\local-packages\\Python310\\site-packages\\sklearn\\linear_model\\_sag.py:352: ConvergenceWarning: The max_iter was reached which means the coef_ did not converge\n",
      "  warnings.warn(\n",
      "C:\\Users\\Nicol\\AppData\\Local\\Packages\\PythonSoftwareFoundation.Python.3.10_qbz5n2kfra8p0\\LocalCache\\local-packages\\Python310\\site-packages\\sklearn\\linear_model\\_sag.py:352: ConvergenceWarning: The max_iter was reached which means the coef_ did not converge\n",
      "  warnings.warn(\n",
      "C:\\Users\\Nicol\\AppData\\Local\\Packages\\PythonSoftwareFoundation.Python.3.10_qbz5n2kfra8p0\\LocalCache\\local-packages\\Python310\\site-packages\\sklearn\\linear_model\\_sag.py:352: ConvergenceWarning: The max_iter was reached which means the coef_ did not converge\n",
      "  warnings.warn(\n",
      "C:\\Users\\Nicol\\AppData\\Local\\Packages\\PythonSoftwareFoundation.Python.3.10_qbz5n2kfra8p0\\LocalCache\\local-packages\\Python310\\site-packages\\sklearn\\linear_model\\_sag.py:352: ConvergenceWarning: The max_iter was reached which means the coef_ did not converge\n",
      "  warnings.warn(\n",
      "C:\\Users\\Nicol\\AppData\\Local\\Packages\\PythonSoftwareFoundation.Python.3.10_qbz5n2kfra8p0\\LocalCache\\local-packages\\Python310\\site-packages\\sklearn\\linear_model\\_sag.py:352: ConvergenceWarning: The max_iter was reached which means the coef_ did not converge\n",
      "  warnings.warn(\n",
      "C:\\Users\\Nicol\\AppData\\Local\\Packages\\PythonSoftwareFoundation.Python.3.10_qbz5n2kfra8p0\\LocalCache\\local-packages\\Python310\\site-packages\\sklearn\\linear_model\\_sag.py:352: ConvergenceWarning: The max_iter was reached which means the coef_ did not converge\n",
      "  warnings.warn(\n",
      "C:\\Users\\Nicol\\AppData\\Local\\Packages\\PythonSoftwareFoundation.Python.3.10_qbz5n2kfra8p0\\LocalCache\\local-packages\\Python310\\site-packages\\sklearn\\linear_model\\_sag.py:352: ConvergenceWarning: The max_iter was reached which means the coef_ did not converge\n",
      "  warnings.warn(\n",
      "C:\\Users\\Nicol\\AppData\\Local\\Packages\\PythonSoftwareFoundation.Python.3.10_qbz5n2kfra8p0\\LocalCache\\local-packages\\Python310\\site-packages\\sklearn\\linear_model\\_sag.py:352: ConvergenceWarning: The max_iter was reached which means the coef_ did not converge\n",
      "  warnings.warn(\n",
      "C:\\Users\\Nicol\\AppData\\Local\\Packages\\PythonSoftwareFoundation.Python.3.10_qbz5n2kfra8p0\\LocalCache\\local-packages\\Python310\\site-packages\\sklearn\\linear_model\\_sag.py:352: ConvergenceWarning: The max_iter was reached which means the coef_ did not converge\n",
      "  warnings.warn(\n",
      "C:\\Users\\Nicol\\AppData\\Local\\Packages\\PythonSoftwareFoundation.Python.3.10_qbz5n2kfra8p0\\LocalCache\\local-packages\\Python310\\site-packages\\sklearn\\linear_model\\_sag.py:352: ConvergenceWarning: The max_iter was reached which means the coef_ did not converge\n",
      "  warnings.warn(\n",
      "C:\\Users\\Nicol\\AppData\\Local\\Packages\\PythonSoftwareFoundation.Python.3.10_qbz5n2kfra8p0\\LocalCache\\local-packages\\Python310\\site-packages\\sklearn\\linear_model\\_sag.py:352: ConvergenceWarning: The max_iter was reached which means the coef_ did not converge\n",
      "  warnings.warn(\n",
      "C:\\Users\\Nicol\\AppData\\Local\\Packages\\PythonSoftwareFoundation.Python.3.10_qbz5n2kfra8p0\\LocalCache\\local-packages\\Python310\\site-packages\\sklearn\\linear_model\\_sag.py:352: ConvergenceWarning: The max_iter was reached which means the coef_ did not converge\n",
      "  warnings.warn(\n",
      "C:\\Users\\Nicol\\AppData\\Local\\Packages\\PythonSoftwareFoundation.Python.3.10_qbz5n2kfra8p0\\LocalCache\\local-packages\\Python310\\site-packages\\sklearn\\linear_model\\_sag.py:352: ConvergenceWarning: The max_iter was reached which means the coef_ did not converge\n",
      "  warnings.warn(\n",
      "C:\\Users\\Nicol\\AppData\\Local\\Packages\\PythonSoftwareFoundation.Python.3.10_qbz5n2kfra8p0\\LocalCache\\local-packages\\Python310\\site-packages\\sklearn\\linear_model\\_sag.py:352: ConvergenceWarning: The max_iter was reached which means the coef_ did not converge\n",
      "  warnings.warn(\n",
      "C:\\Users\\Nicol\\AppData\\Local\\Packages\\PythonSoftwareFoundation.Python.3.10_qbz5n2kfra8p0\\LocalCache\\local-packages\\Python310\\site-packages\\sklearn\\linear_model\\_sag.py:352: ConvergenceWarning: The max_iter was reached which means the coef_ did not converge\n",
      "  warnings.warn(\n",
      "C:\\Users\\Nicol\\AppData\\Local\\Packages\\PythonSoftwareFoundation.Python.3.10_qbz5n2kfra8p0\\LocalCache\\local-packages\\Python310\\site-packages\\sklearn\\linear_model\\_sag.py:352: ConvergenceWarning: The max_iter was reached which means the coef_ did not converge\n",
      "  warnings.warn(\n",
      "C:\\Users\\Nicol\\AppData\\Local\\Packages\\PythonSoftwareFoundation.Python.3.10_qbz5n2kfra8p0\\LocalCache\\local-packages\\Python310\\site-packages\\sklearn\\linear_model\\_sag.py:352: ConvergenceWarning: The max_iter was reached which means the coef_ did not converge\n",
      "  warnings.warn(\n",
      "C:\\Users\\Nicol\\AppData\\Local\\Packages\\PythonSoftwareFoundation.Python.3.10_qbz5n2kfra8p0\\LocalCache\\local-packages\\Python310\\site-packages\\sklearn\\linear_model\\_sag.py:352: ConvergenceWarning: The max_iter was reached which means the coef_ did not converge\n",
      "  warnings.warn(\n",
      "C:\\Users\\Nicol\\AppData\\Local\\Packages\\PythonSoftwareFoundation.Python.3.10_qbz5n2kfra8p0\\LocalCache\\local-packages\\Python310\\site-packages\\sklearn\\linear_model\\_sag.py:352: ConvergenceWarning: The max_iter was reached which means the coef_ did not converge\n",
      "  warnings.warn(\n",
      "C:\\Users\\Nicol\\AppData\\Local\\Packages\\PythonSoftwareFoundation.Python.3.10_qbz5n2kfra8p0\\LocalCache\\local-packages\\Python310\\site-packages\\sklearn\\linear_model\\_sag.py:352: ConvergenceWarning: The max_iter was reached which means the coef_ did not converge\n",
      "  warnings.warn(\n",
      "C:\\Users\\Nicol\\AppData\\Local\\Packages\\PythonSoftwareFoundation.Python.3.10_qbz5n2kfra8p0\\LocalCache\\local-packages\\Python310\\site-packages\\sklearn\\linear_model\\_sag.py:352: ConvergenceWarning: The max_iter was reached which means the coef_ did not converge\n",
      "  warnings.warn(\n",
      "C:\\Users\\Nicol\\AppData\\Local\\Packages\\PythonSoftwareFoundation.Python.3.10_qbz5n2kfra8p0\\LocalCache\\local-packages\\Python310\\site-packages\\sklearn\\linear_model\\_sag.py:352: ConvergenceWarning: The max_iter was reached which means the coef_ did not converge\n",
      "  warnings.warn(\n",
      "C:\\Users\\Nicol\\AppData\\Local\\Packages\\PythonSoftwareFoundation.Python.3.10_qbz5n2kfra8p0\\LocalCache\\local-packages\\Python310\\site-packages\\sklearn\\linear_model\\_sag.py:352: ConvergenceWarning: The max_iter was reached which means the coef_ did not converge\n",
      "  warnings.warn(\n",
      "C:\\Users\\Nicol\\AppData\\Local\\Packages\\PythonSoftwareFoundation.Python.3.10_qbz5n2kfra8p0\\LocalCache\\local-packages\\Python310\\site-packages\\sklearn\\linear_model\\_sag.py:352: ConvergenceWarning: The max_iter was reached which means the coef_ did not converge\n",
      "  warnings.warn(\n",
      "C:\\Users\\Nicol\\AppData\\Local\\Packages\\PythonSoftwareFoundation.Python.3.10_qbz5n2kfra8p0\\LocalCache\\local-packages\\Python310\\site-packages\\sklearn\\linear_model\\_sag.py:352: ConvergenceWarning: The max_iter was reached which means the coef_ did not converge\n",
      "  warnings.warn(\n",
      "C:\\Users\\Nicol\\AppData\\Local\\Packages\\PythonSoftwareFoundation.Python.3.10_qbz5n2kfra8p0\\LocalCache\\local-packages\\Python310\\site-packages\\sklearn\\linear_model\\_sag.py:352: ConvergenceWarning: The max_iter was reached which means the coef_ did not converge\n",
      "  warnings.warn(\n",
      "C:\\Users\\Nicol\\AppData\\Local\\Packages\\PythonSoftwareFoundation.Python.3.10_qbz5n2kfra8p0\\LocalCache\\local-packages\\Python310\\site-packages\\sklearn\\linear_model\\_sag.py:352: ConvergenceWarning: The max_iter was reached which means the coef_ did not converge\n",
      "  warnings.warn(\n",
      "C:\\Users\\Nicol\\AppData\\Local\\Packages\\PythonSoftwareFoundation.Python.3.10_qbz5n2kfra8p0\\LocalCache\\local-packages\\Python310\\site-packages\\sklearn\\linear_model\\_sag.py:352: ConvergenceWarning: The max_iter was reached which means the coef_ did not converge\n",
      "  warnings.warn(\n",
      "C:\\Users\\Nicol\\AppData\\Local\\Packages\\PythonSoftwareFoundation.Python.3.10_qbz5n2kfra8p0\\LocalCache\\local-packages\\Python310\\site-packages\\sklearn\\linear_model\\_sag.py:352: ConvergenceWarning: The max_iter was reached which means the coef_ did not converge\n",
      "  warnings.warn(\n",
      "C:\\Users\\Nicol\\AppData\\Local\\Packages\\PythonSoftwareFoundation.Python.3.10_qbz5n2kfra8p0\\LocalCache\\local-packages\\Python310\\site-packages\\sklearn\\linear_model\\_sag.py:352: ConvergenceWarning: The max_iter was reached which means the coef_ did not converge\n",
      "  warnings.warn(\n",
      "C:\\Users\\Nicol\\AppData\\Local\\Packages\\PythonSoftwareFoundation.Python.3.10_qbz5n2kfra8p0\\LocalCache\\local-packages\\Python310\\site-packages\\sklearn\\linear_model\\_sag.py:352: ConvergenceWarning: The max_iter was reached which means the coef_ did not converge\n",
      "  warnings.warn(\n",
      "C:\\Users\\Nicol\\AppData\\Local\\Packages\\PythonSoftwareFoundation.Python.3.10_qbz5n2kfra8p0\\LocalCache\\local-packages\\Python310\\site-packages\\sklearn\\linear_model\\_sag.py:352: ConvergenceWarning: The max_iter was reached which means the coef_ did not converge\n",
      "  warnings.warn(\n",
      "C:\\Users\\Nicol\\AppData\\Local\\Packages\\PythonSoftwareFoundation.Python.3.10_qbz5n2kfra8p0\\LocalCache\\local-packages\\Python310\\site-packages\\sklearn\\linear_model\\_sag.py:352: ConvergenceWarning: The max_iter was reached which means the coef_ did not converge\n",
      "  warnings.warn(\n",
      "C:\\Users\\Nicol\\AppData\\Local\\Packages\\PythonSoftwareFoundation.Python.3.10_qbz5n2kfra8p0\\LocalCache\\local-packages\\Python310\\site-packages\\sklearn\\linear_model\\_sag.py:352: ConvergenceWarning: The max_iter was reached which means the coef_ did not converge\n",
      "  warnings.warn(\n",
      "C:\\Users\\Nicol\\AppData\\Local\\Packages\\PythonSoftwareFoundation.Python.3.10_qbz5n2kfra8p0\\LocalCache\\local-packages\\Python310\\site-packages\\sklearn\\linear_model\\_sag.py:352: ConvergenceWarning: The max_iter was reached which means the coef_ did not converge\n",
      "  warnings.warn(\n",
      "C:\\Users\\Nicol\\AppData\\Local\\Packages\\PythonSoftwareFoundation.Python.3.10_qbz5n2kfra8p0\\LocalCache\\local-packages\\Python310\\site-packages\\sklearn\\linear_model\\_sag.py:352: ConvergenceWarning: The max_iter was reached which means the coef_ did not converge\n",
      "  warnings.warn(\n",
      "C:\\Users\\Nicol\\AppData\\Local\\Packages\\PythonSoftwareFoundation.Python.3.10_qbz5n2kfra8p0\\LocalCache\\local-packages\\Python310\\site-packages\\sklearn\\linear_model\\_sag.py:352: ConvergenceWarning: The max_iter was reached which means the coef_ did not converge\n",
      "  warnings.warn(\n",
      "C:\\Users\\Nicol\\AppData\\Local\\Packages\\PythonSoftwareFoundation.Python.3.10_qbz5n2kfra8p0\\LocalCache\\local-packages\\Python310\\site-packages\\sklearn\\linear_model\\_sag.py:352: ConvergenceWarning: The max_iter was reached which means the coef_ did not converge\n",
      "  warnings.warn(\n",
      "C:\\Users\\Nicol\\AppData\\Local\\Packages\\PythonSoftwareFoundation.Python.3.10_qbz5n2kfra8p0\\LocalCache\\local-packages\\Python310\\site-packages\\sklearn\\linear_model\\_sag.py:352: ConvergenceWarning: The max_iter was reached which means the coef_ did not converge\n",
      "  warnings.warn(\n",
      "C:\\Users\\Nicol\\AppData\\Local\\Packages\\PythonSoftwareFoundation.Python.3.10_qbz5n2kfra8p0\\LocalCache\\local-packages\\Python310\\site-packages\\sklearn\\linear_model\\_sag.py:352: ConvergenceWarning: The max_iter was reached which means the coef_ did not converge\n",
      "  warnings.warn(\n",
      "C:\\Users\\Nicol\\AppData\\Local\\Packages\\PythonSoftwareFoundation.Python.3.10_qbz5n2kfra8p0\\LocalCache\\local-packages\\Python310\\site-packages\\sklearn\\linear_model\\_sag.py:352: ConvergenceWarning: The max_iter was reached which means the coef_ did not converge\n",
      "  warnings.warn(\n",
      "C:\\Users\\Nicol\\AppData\\Local\\Packages\\PythonSoftwareFoundation.Python.3.10_qbz5n2kfra8p0\\LocalCache\\local-packages\\Python310\\site-packages\\sklearn\\linear_model\\_sag.py:352: ConvergenceWarning: The max_iter was reached which means the coef_ did not converge\n",
      "  warnings.warn(\n",
      "C:\\Users\\Nicol\\AppData\\Local\\Packages\\PythonSoftwareFoundation.Python.3.10_qbz5n2kfra8p0\\LocalCache\\local-packages\\Python310\\site-packages\\sklearn\\linear_model\\_sag.py:352: ConvergenceWarning: The max_iter was reached which means the coef_ did not converge\n",
      "  warnings.warn(\n",
      "C:\\Users\\Nicol\\AppData\\Local\\Packages\\PythonSoftwareFoundation.Python.3.10_qbz5n2kfra8p0\\LocalCache\\local-packages\\Python310\\site-packages\\sklearn\\linear_model\\_sag.py:352: ConvergenceWarning: The max_iter was reached which means the coef_ did not converge\n",
      "  warnings.warn(\n",
      "C:\\Users\\Nicol\\AppData\\Local\\Packages\\PythonSoftwareFoundation.Python.3.10_qbz5n2kfra8p0\\LocalCache\\local-packages\\Python310\\site-packages\\sklearn\\linear_model\\_sag.py:352: ConvergenceWarning: The max_iter was reached which means the coef_ did not converge\n",
      "  warnings.warn(\n",
      "C:\\Users\\Nicol\\AppData\\Local\\Packages\\PythonSoftwareFoundation.Python.3.10_qbz5n2kfra8p0\\LocalCache\\local-packages\\Python310\\site-packages\\sklearn\\linear_model\\_sag.py:352: ConvergenceWarning: The max_iter was reached which means the coef_ did not converge\n",
      "  warnings.warn(\n",
      "C:\\Users\\Nicol\\AppData\\Local\\Packages\\PythonSoftwareFoundation.Python.3.10_qbz5n2kfra8p0\\LocalCache\\local-packages\\Python310\\site-packages\\sklearn\\linear_model\\_sag.py:352: ConvergenceWarning: The max_iter was reached which means the coef_ did not converge\n",
      "  warnings.warn(\n",
      "C:\\Users\\Nicol\\AppData\\Local\\Packages\\PythonSoftwareFoundation.Python.3.10_qbz5n2kfra8p0\\LocalCache\\local-packages\\Python310\\site-packages\\sklearn\\linear_model\\_sag.py:352: ConvergenceWarning: The max_iter was reached which means the coef_ did not converge\n",
      "  warnings.warn(\n",
      "C:\\Users\\Nicol\\AppData\\Local\\Packages\\PythonSoftwareFoundation.Python.3.10_qbz5n2kfra8p0\\LocalCache\\local-packages\\Python310\\site-packages\\sklearn\\linear_model\\_sag.py:352: ConvergenceWarning: The max_iter was reached which means the coef_ did not converge\n",
      "  warnings.warn(\n",
      "C:\\Users\\Nicol\\AppData\\Local\\Packages\\PythonSoftwareFoundation.Python.3.10_qbz5n2kfra8p0\\LocalCache\\local-packages\\Python310\\site-packages\\sklearn\\linear_model\\_sag.py:352: ConvergenceWarning: The max_iter was reached which means the coef_ did not converge\n",
      "  warnings.warn(\n",
      "C:\\Users\\Nicol\\AppData\\Local\\Packages\\PythonSoftwareFoundation.Python.3.10_qbz5n2kfra8p0\\LocalCache\\local-packages\\Python310\\site-packages\\sklearn\\linear_model\\_sag.py:352: ConvergenceWarning: The max_iter was reached which means the coef_ did not converge\n",
      "  warnings.warn(\n",
      "C:\\Users\\Nicol\\AppData\\Local\\Packages\\PythonSoftwareFoundation.Python.3.10_qbz5n2kfra8p0\\LocalCache\\local-packages\\Python310\\site-packages\\sklearn\\linear_model\\_sag.py:352: ConvergenceWarning: The max_iter was reached which means the coef_ did not converge\n",
      "  warnings.warn(\n",
      "C:\\Users\\Nicol\\AppData\\Local\\Packages\\PythonSoftwareFoundation.Python.3.10_qbz5n2kfra8p0\\LocalCache\\local-packages\\Python310\\site-packages\\sklearn\\linear_model\\_sag.py:352: ConvergenceWarning: The max_iter was reached which means the coef_ did not converge\n",
      "  warnings.warn(\n",
      "C:\\Users\\Nicol\\AppData\\Local\\Packages\\PythonSoftwareFoundation.Python.3.10_qbz5n2kfra8p0\\LocalCache\\local-packages\\Python310\\site-packages\\sklearn\\linear_model\\_sag.py:352: ConvergenceWarning: The max_iter was reached which means the coef_ did not converge\n",
      "  warnings.warn(\n",
      "C:\\Users\\Nicol\\AppData\\Local\\Packages\\PythonSoftwareFoundation.Python.3.10_qbz5n2kfra8p0\\LocalCache\\local-packages\\Python310\\site-packages\\sklearn\\linear_model\\_sag.py:352: ConvergenceWarning: The max_iter was reached which means the coef_ did not converge\n",
      "  warnings.warn(\n",
      "C:\\Users\\Nicol\\AppData\\Local\\Packages\\PythonSoftwareFoundation.Python.3.10_qbz5n2kfra8p0\\LocalCache\\local-packages\\Python310\\site-packages\\sklearn\\linear_model\\_sag.py:352: ConvergenceWarning: The max_iter was reached which means the coef_ did not converge\n",
      "  warnings.warn(\n",
      "C:\\Users\\Nicol\\AppData\\Local\\Packages\\PythonSoftwareFoundation.Python.3.10_qbz5n2kfra8p0\\LocalCache\\local-packages\\Python310\\site-packages\\sklearn\\linear_model\\_sag.py:352: ConvergenceWarning: The max_iter was reached which means the coef_ did not converge\n",
      "  warnings.warn(\n",
      "C:\\Users\\Nicol\\AppData\\Local\\Packages\\PythonSoftwareFoundation.Python.3.10_qbz5n2kfra8p0\\LocalCache\\local-packages\\Python310\\site-packages\\sklearn\\linear_model\\_sag.py:352: ConvergenceWarning: The max_iter was reached which means the coef_ did not converge\n",
      "  warnings.warn(\n",
      "C:\\Users\\Nicol\\AppData\\Local\\Packages\\PythonSoftwareFoundation.Python.3.10_qbz5n2kfra8p0\\LocalCache\\local-packages\\Python310\\site-packages\\sklearn\\linear_model\\_sag.py:352: ConvergenceWarning: The max_iter was reached which means the coef_ did not converge\n",
      "  warnings.warn(\n",
      "C:\\Users\\Nicol\\AppData\\Local\\Packages\\PythonSoftwareFoundation.Python.3.10_qbz5n2kfra8p0\\LocalCache\\local-packages\\Python310\\site-packages\\sklearn\\linear_model\\_sag.py:352: ConvergenceWarning: The max_iter was reached which means the coef_ did not converge\n",
      "  warnings.warn(\n",
      "C:\\Users\\Nicol\\AppData\\Local\\Packages\\PythonSoftwareFoundation.Python.3.10_qbz5n2kfra8p0\\LocalCache\\local-packages\\Python310\\site-packages\\sklearn\\linear_model\\_sag.py:352: ConvergenceWarning: The max_iter was reached which means the coef_ did not converge\n",
      "  warnings.warn(\n",
      "C:\\Users\\Nicol\\AppData\\Local\\Packages\\PythonSoftwareFoundation.Python.3.10_qbz5n2kfra8p0\\LocalCache\\local-packages\\Python310\\site-packages\\sklearn\\linear_model\\_sag.py:352: ConvergenceWarning: The max_iter was reached which means the coef_ did not converge\n",
      "  warnings.warn(\n",
      "C:\\Users\\Nicol\\AppData\\Local\\Packages\\PythonSoftwareFoundation.Python.3.10_qbz5n2kfra8p0\\LocalCache\\local-packages\\Python310\\site-packages\\sklearn\\linear_model\\_sag.py:352: ConvergenceWarning: The max_iter was reached which means the coef_ did not converge\n",
      "  warnings.warn(\n",
      "C:\\Users\\Nicol\\AppData\\Local\\Packages\\PythonSoftwareFoundation.Python.3.10_qbz5n2kfra8p0\\LocalCache\\local-packages\\Python310\\site-packages\\sklearn\\linear_model\\_sag.py:352: ConvergenceWarning: The max_iter was reached which means the coef_ did not converge\n",
      "  warnings.warn(\n",
      "C:\\Users\\Nicol\\AppData\\Local\\Packages\\PythonSoftwareFoundation.Python.3.10_qbz5n2kfra8p0\\LocalCache\\local-packages\\Python310\\site-packages\\sklearn\\linear_model\\_sag.py:352: ConvergenceWarning: The max_iter was reached which means the coef_ did not converge\n",
      "  warnings.warn(\n",
      "C:\\Users\\Nicol\\AppData\\Local\\Packages\\PythonSoftwareFoundation.Python.3.10_qbz5n2kfra8p0\\LocalCache\\local-packages\\Python310\\site-packages\\sklearn\\linear_model\\_sag.py:352: ConvergenceWarning: The max_iter was reached which means the coef_ did not converge\n",
      "  warnings.warn(\n",
      "C:\\Users\\Nicol\\AppData\\Local\\Packages\\PythonSoftwareFoundation.Python.3.10_qbz5n2kfra8p0\\LocalCache\\local-packages\\Python310\\site-packages\\sklearn\\linear_model\\_sag.py:352: ConvergenceWarning: The max_iter was reached which means the coef_ did not converge\n",
      "  warnings.warn(\n",
      "C:\\Users\\Nicol\\AppData\\Local\\Packages\\PythonSoftwareFoundation.Python.3.10_qbz5n2kfra8p0\\LocalCache\\local-packages\\Python310\\site-packages\\sklearn\\linear_model\\_sag.py:352: ConvergenceWarning: The max_iter was reached which means the coef_ did not converge\n",
      "  warnings.warn(\n",
      "C:\\Users\\Nicol\\AppData\\Local\\Packages\\PythonSoftwareFoundation.Python.3.10_qbz5n2kfra8p0\\LocalCache\\local-packages\\Python310\\site-packages\\sklearn\\linear_model\\_sag.py:352: ConvergenceWarning: The max_iter was reached which means the coef_ did not converge\n",
      "  warnings.warn(\n",
      "C:\\Users\\Nicol\\AppData\\Local\\Packages\\PythonSoftwareFoundation.Python.3.10_qbz5n2kfra8p0\\LocalCache\\local-packages\\Python310\\site-packages\\sklearn\\linear_model\\_sag.py:352: ConvergenceWarning: The max_iter was reached which means the coef_ did not converge\n",
      "  warnings.warn(\n",
      "C:\\Users\\Nicol\\AppData\\Local\\Packages\\PythonSoftwareFoundation.Python.3.10_qbz5n2kfra8p0\\LocalCache\\local-packages\\Python310\\site-packages\\sklearn\\linear_model\\_sag.py:352: ConvergenceWarning: The max_iter was reached which means the coef_ did not converge\n",
      "  warnings.warn(\n",
      "C:\\Users\\Nicol\\AppData\\Local\\Packages\\PythonSoftwareFoundation.Python.3.10_qbz5n2kfra8p0\\LocalCache\\local-packages\\Python310\\site-packages\\sklearn\\linear_model\\_sag.py:352: ConvergenceWarning: The max_iter was reached which means the coef_ did not converge\n",
      "  warnings.warn(\n",
      "C:\\Users\\Nicol\\AppData\\Local\\Packages\\PythonSoftwareFoundation.Python.3.10_qbz5n2kfra8p0\\LocalCache\\local-packages\\Python310\\site-packages\\sklearn\\linear_model\\_sag.py:352: ConvergenceWarning: The max_iter was reached which means the coef_ did not converge\n",
      "  warnings.warn(\n",
      "C:\\Users\\Nicol\\AppData\\Local\\Packages\\PythonSoftwareFoundation.Python.3.10_qbz5n2kfra8p0\\LocalCache\\local-packages\\Python310\\site-packages\\sklearn\\linear_model\\_sag.py:352: ConvergenceWarning: The max_iter was reached which means the coef_ did not converge\n",
      "  warnings.warn(\n",
      "C:\\Users\\Nicol\\AppData\\Local\\Packages\\PythonSoftwareFoundation.Python.3.10_qbz5n2kfra8p0\\LocalCache\\local-packages\\Python310\\site-packages\\sklearn\\linear_model\\_sag.py:352: ConvergenceWarning: The max_iter was reached which means the coef_ did not converge\n",
      "  warnings.warn(\n",
      "C:\\Users\\Nicol\\AppData\\Local\\Packages\\PythonSoftwareFoundation.Python.3.10_qbz5n2kfra8p0\\LocalCache\\local-packages\\Python310\\site-packages\\sklearn\\linear_model\\_sag.py:352: ConvergenceWarning: The max_iter was reached which means the coef_ did not converge\n",
      "  warnings.warn(\n",
      "C:\\Users\\Nicol\\AppData\\Local\\Packages\\PythonSoftwareFoundation.Python.3.10_qbz5n2kfra8p0\\LocalCache\\local-packages\\Python310\\site-packages\\sklearn\\linear_model\\_sag.py:352: ConvergenceWarning: The max_iter was reached which means the coef_ did not converge\n",
      "  warnings.warn(\n",
      "C:\\Users\\Nicol\\AppData\\Local\\Packages\\PythonSoftwareFoundation.Python.3.10_qbz5n2kfra8p0\\LocalCache\\local-packages\\Python310\\site-packages\\sklearn\\linear_model\\_sag.py:352: ConvergenceWarning: The max_iter was reached which means the coef_ did not converge\n",
      "  warnings.warn(\n",
      "C:\\Users\\Nicol\\AppData\\Local\\Packages\\PythonSoftwareFoundation.Python.3.10_qbz5n2kfra8p0\\LocalCache\\local-packages\\Python310\\site-packages\\sklearn\\linear_model\\_sag.py:352: ConvergenceWarning: The max_iter was reached which means the coef_ did not converge\n",
      "  warnings.warn(\n",
      "C:\\Users\\Nicol\\AppData\\Local\\Packages\\PythonSoftwareFoundation.Python.3.10_qbz5n2kfra8p0\\LocalCache\\local-packages\\Python310\\site-packages\\sklearn\\linear_model\\_sag.py:352: ConvergenceWarning: The max_iter was reached which means the coef_ did not converge\n",
      "  warnings.warn(\n",
      "C:\\Users\\Nicol\\AppData\\Local\\Packages\\PythonSoftwareFoundation.Python.3.10_qbz5n2kfra8p0\\LocalCache\\local-packages\\Python310\\site-packages\\sklearn\\linear_model\\_sag.py:352: ConvergenceWarning: The max_iter was reached which means the coef_ did not converge\n",
      "  warnings.warn(\n",
      "C:\\Users\\Nicol\\AppData\\Local\\Packages\\PythonSoftwareFoundation.Python.3.10_qbz5n2kfra8p0\\LocalCache\\local-packages\\Python310\\site-packages\\sklearn\\linear_model\\_sag.py:352: ConvergenceWarning: The max_iter was reached which means the coef_ did not converge\n",
      "  warnings.warn(\n",
      "C:\\Users\\Nicol\\AppData\\Local\\Packages\\PythonSoftwareFoundation.Python.3.10_qbz5n2kfra8p0\\LocalCache\\local-packages\\Python310\\site-packages\\sklearn\\linear_model\\_sag.py:352: ConvergenceWarning: The max_iter was reached which means the coef_ did not converge\n",
      "  warnings.warn(\n",
      "C:\\Users\\Nicol\\AppData\\Local\\Packages\\PythonSoftwareFoundation.Python.3.10_qbz5n2kfra8p0\\LocalCache\\local-packages\\Python310\\site-packages\\sklearn\\linear_model\\_sag.py:352: ConvergenceWarning: The max_iter was reached which means the coef_ did not converge\n",
      "  warnings.warn(\n",
      "C:\\Users\\Nicol\\AppData\\Local\\Packages\\PythonSoftwareFoundation.Python.3.10_qbz5n2kfra8p0\\LocalCache\\local-packages\\Python310\\site-packages\\sklearn\\linear_model\\_sag.py:352: ConvergenceWarning: The max_iter was reached which means the coef_ did not converge\n",
      "  warnings.warn(\n",
      "C:\\Users\\Nicol\\AppData\\Local\\Packages\\PythonSoftwareFoundation.Python.3.10_qbz5n2kfra8p0\\LocalCache\\local-packages\\Python310\\site-packages\\sklearn\\linear_model\\_sag.py:352: ConvergenceWarning: The max_iter was reached which means the coef_ did not converge\n",
      "  warnings.warn(\n",
      "C:\\Users\\Nicol\\AppData\\Local\\Packages\\PythonSoftwareFoundation.Python.3.10_qbz5n2kfra8p0\\LocalCache\\local-packages\\Python310\\site-packages\\sklearn\\linear_model\\_sag.py:352: ConvergenceWarning: The max_iter was reached which means the coef_ did not converge\n",
      "  warnings.warn(\n",
      "C:\\Users\\Nicol\\AppData\\Local\\Packages\\PythonSoftwareFoundation.Python.3.10_qbz5n2kfra8p0\\LocalCache\\local-packages\\Python310\\site-packages\\sklearn\\linear_model\\_sag.py:352: ConvergenceWarning: The max_iter was reached which means the coef_ did not converge\n",
      "  warnings.warn(\n",
      "C:\\Users\\Nicol\\AppData\\Local\\Packages\\PythonSoftwareFoundation.Python.3.10_qbz5n2kfra8p0\\LocalCache\\local-packages\\Python310\\site-packages\\sklearn\\linear_model\\_sag.py:352: ConvergenceWarning: The max_iter was reached which means the coef_ did not converge\n",
      "  warnings.warn(\n",
      "C:\\Users\\Nicol\\AppData\\Local\\Packages\\PythonSoftwareFoundation.Python.3.10_qbz5n2kfra8p0\\LocalCache\\local-packages\\Python310\\site-packages\\sklearn\\linear_model\\_sag.py:352: ConvergenceWarning: The max_iter was reached which means the coef_ did not converge\n",
      "  warnings.warn(\n",
      "C:\\Users\\Nicol\\AppData\\Local\\Packages\\PythonSoftwareFoundation.Python.3.10_qbz5n2kfra8p0\\LocalCache\\local-packages\\Python310\\site-packages\\sklearn\\linear_model\\_sag.py:352: ConvergenceWarning: The max_iter was reached which means the coef_ did not converge\n",
      "  warnings.warn(\n",
      "C:\\Users\\Nicol\\AppData\\Local\\Packages\\PythonSoftwareFoundation.Python.3.10_qbz5n2kfra8p0\\LocalCache\\local-packages\\Python310\\site-packages\\sklearn\\linear_model\\_sag.py:352: ConvergenceWarning: The max_iter was reached which means the coef_ did not converge\n",
      "  warnings.warn(\n",
      "C:\\Users\\Nicol\\AppData\\Local\\Packages\\PythonSoftwareFoundation.Python.3.10_qbz5n2kfra8p0\\LocalCache\\local-packages\\Python310\\site-packages\\sklearn\\linear_model\\_sag.py:352: ConvergenceWarning: The max_iter was reached which means the coef_ did not converge\n",
      "  warnings.warn(\n",
      "C:\\Users\\Nicol\\AppData\\Local\\Packages\\PythonSoftwareFoundation.Python.3.10_qbz5n2kfra8p0\\LocalCache\\local-packages\\Python310\\site-packages\\sklearn\\linear_model\\_sag.py:352: ConvergenceWarning: The max_iter was reached which means the coef_ did not converge\n",
      "  warnings.warn(\n",
      "C:\\Users\\Nicol\\AppData\\Local\\Packages\\PythonSoftwareFoundation.Python.3.10_qbz5n2kfra8p0\\LocalCache\\local-packages\\Python310\\site-packages\\sklearn\\linear_model\\_sag.py:352: ConvergenceWarning: The max_iter was reached which means the coef_ did not converge\n",
      "  warnings.warn(\n",
      "C:\\Users\\Nicol\\AppData\\Local\\Packages\\PythonSoftwareFoundation.Python.3.10_qbz5n2kfra8p0\\LocalCache\\local-packages\\Python310\\site-packages\\sklearn\\linear_model\\_sag.py:352: ConvergenceWarning: The max_iter was reached which means the coef_ did not converge\n",
      "  warnings.warn(\n",
      "C:\\Users\\Nicol\\AppData\\Local\\Packages\\PythonSoftwareFoundation.Python.3.10_qbz5n2kfra8p0\\LocalCache\\local-packages\\Python310\\site-packages\\sklearn\\linear_model\\_sag.py:352: ConvergenceWarning: The max_iter was reached which means the coef_ did not converge\n",
      "  warnings.warn(\n",
      "C:\\Users\\Nicol\\AppData\\Local\\Packages\\PythonSoftwareFoundation.Python.3.10_qbz5n2kfra8p0\\LocalCache\\local-packages\\Python310\\site-packages\\sklearn\\linear_model\\_sag.py:352: ConvergenceWarning: The max_iter was reached which means the coef_ did not converge\n",
      "  warnings.warn(\n",
      "C:\\Users\\Nicol\\AppData\\Local\\Packages\\PythonSoftwareFoundation.Python.3.10_qbz5n2kfra8p0\\LocalCache\\local-packages\\Python310\\site-packages\\sklearn\\linear_model\\_sag.py:352: ConvergenceWarning: The max_iter was reached which means the coef_ did not converge\n",
      "  warnings.warn(\n",
      "C:\\Users\\Nicol\\AppData\\Local\\Packages\\PythonSoftwareFoundation.Python.3.10_qbz5n2kfra8p0\\LocalCache\\local-packages\\Python310\\site-packages\\sklearn\\linear_model\\_sag.py:352: ConvergenceWarning: The max_iter was reached which means the coef_ did not converge\n",
      "  warnings.warn(\n",
      "C:\\Users\\Nicol\\AppData\\Local\\Packages\\PythonSoftwareFoundation.Python.3.10_qbz5n2kfra8p0\\LocalCache\\local-packages\\Python310\\site-packages\\sklearn\\linear_model\\_sag.py:352: ConvergenceWarning: The max_iter was reached which means the coef_ did not converge\n",
      "  warnings.warn(\n",
      "C:\\Users\\Nicol\\AppData\\Local\\Packages\\PythonSoftwareFoundation.Python.3.10_qbz5n2kfra8p0\\LocalCache\\local-packages\\Python310\\site-packages\\sklearn\\linear_model\\_sag.py:352: ConvergenceWarning: The max_iter was reached which means the coef_ did not converge\n",
      "  warnings.warn(\n",
      "C:\\Users\\Nicol\\AppData\\Local\\Packages\\PythonSoftwareFoundation.Python.3.10_qbz5n2kfra8p0\\LocalCache\\local-packages\\Python310\\site-packages\\sklearn\\linear_model\\_sag.py:352: ConvergenceWarning: The max_iter was reached which means the coef_ did not converge\n",
      "  warnings.warn(\n",
      "C:\\Users\\Nicol\\AppData\\Local\\Packages\\PythonSoftwareFoundation.Python.3.10_qbz5n2kfra8p0\\LocalCache\\local-packages\\Python310\\site-packages\\sklearn\\linear_model\\_sag.py:352: ConvergenceWarning: The max_iter was reached which means the coef_ did not converge\n",
      "  warnings.warn(\n",
      "C:\\Users\\Nicol\\AppData\\Local\\Packages\\PythonSoftwareFoundation.Python.3.10_qbz5n2kfra8p0\\LocalCache\\local-packages\\Python310\\site-packages\\sklearn\\linear_model\\_sag.py:352: ConvergenceWarning: The max_iter was reached which means the coef_ did not converge\n",
      "  warnings.warn(\n",
      "C:\\Users\\Nicol\\AppData\\Local\\Packages\\PythonSoftwareFoundation.Python.3.10_qbz5n2kfra8p0\\LocalCache\\local-packages\\Python310\\site-packages\\sklearn\\linear_model\\_sag.py:352: ConvergenceWarning: The max_iter was reached which means the coef_ did not converge\n",
      "  warnings.warn(\n",
      "C:\\Users\\Nicol\\AppData\\Local\\Packages\\PythonSoftwareFoundation.Python.3.10_qbz5n2kfra8p0\\LocalCache\\local-packages\\Python310\\site-packages\\sklearn\\linear_model\\_sag.py:352: ConvergenceWarning: The max_iter was reached which means the coef_ did not converge\n",
      "  warnings.warn(\n",
      "C:\\Users\\Nicol\\AppData\\Local\\Packages\\PythonSoftwareFoundation.Python.3.10_qbz5n2kfra8p0\\LocalCache\\local-packages\\Python310\\site-packages\\sklearn\\linear_model\\_sag.py:352: ConvergenceWarning: The max_iter was reached which means the coef_ did not converge\n",
      "  warnings.warn(\n",
      "C:\\Users\\Nicol\\AppData\\Local\\Packages\\PythonSoftwareFoundation.Python.3.10_qbz5n2kfra8p0\\LocalCache\\local-packages\\Python310\\site-packages\\sklearn\\linear_model\\_sag.py:352: ConvergenceWarning: The max_iter was reached which means the coef_ did not converge\n",
      "  warnings.warn(\n",
      "C:\\Users\\Nicol\\AppData\\Local\\Packages\\PythonSoftwareFoundation.Python.3.10_qbz5n2kfra8p0\\LocalCache\\local-packages\\Python310\\site-packages\\sklearn\\linear_model\\_sag.py:352: ConvergenceWarning: The max_iter was reached which means the coef_ did not converge\n",
      "  warnings.warn(\n",
      "C:\\Users\\Nicol\\AppData\\Local\\Packages\\PythonSoftwareFoundation.Python.3.10_qbz5n2kfra8p0\\LocalCache\\local-packages\\Python310\\site-packages\\sklearn\\linear_model\\_sag.py:352: ConvergenceWarning: The max_iter was reached which means the coef_ did not converge\n",
      "  warnings.warn(\n",
      "C:\\Users\\Nicol\\AppData\\Local\\Packages\\PythonSoftwareFoundation.Python.3.10_qbz5n2kfra8p0\\LocalCache\\local-packages\\Python310\\site-packages\\sklearn\\linear_model\\_sag.py:352: ConvergenceWarning: The max_iter was reached which means the coef_ did not converge\n",
      "  warnings.warn(\n",
      "C:\\Users\\Nicol\\AppData\\Local\\Packages\\PythonSoftwareFoundation.Python.3.10_qbz5n2kfra8p0\\LocalCache\\local-packages\\Python310\\site-packages\\sklearn\\linear_model\\_sag.py:352: ConvergenceWarning: The max_iter was reached which means the coef_ did not converge\n",
      "  warnings.warn(\n",
      "C:\\Users\\Nicol\\AppData\\Local\\Packages\\PythonSoftwareFoundation.Python.3.10_qbz5n2kfra8p0\\LocalCache\\local-packages\\Python310\\site-packages\\sklearn\\linear_model\\_sag.py:352: ConvergenceWarning: The max_iter was reached which means the coef_ did not converge\n",
      "  warnings.warn(\n",
      "C:\\Users\\Nicol\\AppData\\Local\\Packages\\PythonSoftwareFoundation.Python.3.10_qbz5n2kfra8p0\\LocalCache\\local-packages\\Python310\\site-packages\\sklearn\\linear_model\\_sag.py:352: ConvergenceWarning: The max_iter was reached which means the coef_ did not converge\n",
      "  warnings.warn(\n",
      "C:\\Users\\Nicol\\AppData\\Local\\Packages\\PythonSoftwareFoundation.Python.3.10_qbz5n2kfra8p0\\LocalCache\\local-packages\\Python310\\site-packages\\sklearn\\linear_model\\_sag.py:352: ConvergenceWarning: The max_iter was reached which means the coef_ did not converge\n",
      "  warnings.warn(\n",
      "C:\\Users\\Nicol\\AppData\\Local\\Packages\\PythonSoftwareFoundation.Python.3.10_qbz5n2kfra8p0\\LocalCache\\local-packages\\Python310\\site-packages\\sklearn\\linear_model\\_sag.py:352: ConvergenceWarning: The max_iter was reached which means the coef_ did not converge\n",
      "  warnings.warn(\n",
      "C:\\Users\\Nicol\\AppData\\Local\\Packages\\PythonSoftwareFoundation.Python.3.10_qbz5n2kfra8p0\\LocalCache\\local-packages\\Python310\\site-packages\\sklearn\\linear_model\\_sag.py:352: ConvergenceWarning: The max_iter was reached which means the coef_ did not converge\n",
      "  warnings.warn(\n",
      "C:\\Users\\Nicol\\AppData\\Local\\Packages\\PythonSoftwareFoundation.Python.3.10_qbz5n2kfra8p0\\LocalCache\\local-packages\\Python310\\site-packages\\sklearn\\linear_model\\_sag.py:352: ConvergenceWarning: The max_iter was reached which means the coef_ did not converge\n",
      "  warnings.warn(\n",
      "C:\\Users\\Nicol\\AppData\\Local\\Packages\\PythonSoftwareFoundation.Python.3.10_qbz5n2kfra8p0\\LocalCache\\local-packages\\Python310\\site-packages\\sklearn\\linear_model\\_sag.py:352: ConvergenceWarning: The max_iter was reached which means the coef_ did not converge\n",
      "  warnings.warn(\n",
      "C:\\Users\\Nicol\\AppData\\Local\\Packages\\PythonSoftwareFoundation.Python.3.10_qbz5n2kfra8p0\\LocalCache\\local-packages\\Python310\\site-packages\\sklearn\\linear_model\\_sag.py:352: ConvergenceWarning: The max_iter was reached which means the coef_ did not converge\n",
      "  warnings.warn(\n",
      "C:\\Users\\Nicol\\AppData\\Local\\Packages\\PythonSoftwareFoundation.Python.3.10_qbz5n2kfra8p0\\LocalCache\\local-packages\\Python310\\site-packages\\sklearn\\linear_model\\_sag.py:352: ConvergenceWarning: The max_iter was reached which means the coef_ did not converge\n",
      "  warnings.warn(\n",
      "C:\\Users\\Nicol\\AppData\\Local\\Packages\\PythonSoftwareFoundation.Python.3.10_qbz5n2kfra8p0\\LocalCache\\local-packages\\Python310\\site-packages\\sklearn\\linear_model\\_sag.py:352: ConvergenceWarning: The max_iter was reached which means the coef_ did not converge\n",
      "  warnings.warn(\n",
      "C:\\Users\\Nicol\\AppData\\Local\\Packages\\PythonSoftwareFoundation.Python.3.10_qbz5n2kfra8p0\\LocalCache\\local-packages\\Python310\\site-packages\\sklearn\\linear_model\\_sag.py:352: ConvergenceWarning: The max_iter was reached which means the coef_ did not converge\n",
      "  warnings.warn(\n",
      "C:\\Users\\Nicol\\AppData\\Local\\Packages\\PythonSoftwareFoundation.Python.3.10_qbz5n2kfra8p0\\LocalCache\\local-packages\\Python310\\site-packages\\sklearn\\linear_model\\_sag.py:352: ConvergenceWarning: The max_iter was reached which means the coef_ did not converge\n",
      "  warnings.warn(\n",
      "C:\\Users\\Nicol\\AppData\\Local\\Packages\\PythonSoftwareFoundation.Python.3.10_qbz5n2kfra8p0\\LocalCache\\local-packages\\Python310\\site-packages\\sklearn\\linear_model\\_sag.py:352: ConvergenceWarning: The max_iter was reached which means the coef_ did not converge\n",
      "  warnings.warn(\n",
      "C:\\Users\\Nicol\\AppData\\Local\\Packages\\PythonSoftwareFoundation.Python.3.10_qbz5n2kfra8p0\\LocalCache\\local-packages\\Python310\\site-packages\\sklearn\\linear_model\\_sag.py:352: ConvergenceWarning: The max_iter was reached which means the coef_ did not converge\n",
      "  warnings.warn(\n",
      "C:\\Users\\Nicol\\AppData\\Local\\Packages\\PythonSoftwareFoundation.Python.3.10_qbz5n2kfra8p0\\LocalCache\\local-packages\\Python310\\site-packages\\sklearn\\linear_model\\_sag.py:352: ConvergenceWarning: The max_iter was reached which means the coef_ did not converge\n",
      "  warnings.warn(\n",
      "C:\\Users\\Nicol\\AppData\\Local\\Packages\\PythonSoftwareFoundation.Python.3.10_qbz5n2kfra8p0\\LocalCache\\local-packages\\Python310\\site-packages\\sklearn\\linear_model\\_sag.py:352: ConvergenceWarning: The max_iter was reached which means the coef_ did not converge\n",
      "  warnings.warn(\n",
      "C:\\Users\\Nicol\\AppData\\Local\\Packages\\PythonSoftwareFoundation.Python.3.10_qbz5n2kfra8p0\\LocalCache\\local-packages\\Python310\\site-packages\\sklearn\\linear_model\\_sag.py:352: ConvergenceWarning: The max_iter was reached which means the coef_ did not converge\n",
      "  warnings.warn(\n",
      "C:\\Users\\Nicol\\AppData\\Local\\Packages\\PythonSoftwareFoundation.Python.3.10_qbz5n2kfra8p0\\LocalCache\\local-packages\\Python310\\site-packages\\sklearn\\linear_model\\_sag.py:352: ConvergenceWarning: The max_iter was reached which means the coef_ did not converge\n",
      "  warnings.warn(\n",
      "C:\\Users\\Nicol\\AppData\\Local\\Packages\\PythonSoftwareFoundation.Python.3.10_qbz5n2kfra8p0\\LocalCache\\local-packages\\Python310\\site-packages\\sklearn\\linear_model\\_sag.py:352: ConvergenceWarning: The max_iter was reached which means the coef_ did not converge\n",
      "  warnings.warn(\n",
      "C:\\Users\\Nicol\\AppData\\Local\\Packages\\PythonSoftwareFoundation.Python.3.10_qbz5n2kfra8p0\\LocalCache\\local-packages\\Python310\\site-packages\\sklearn\\linear_model\\_sag.py:352: ConvergenceWarning: The max_iter was reached which means the coef_ did not converge\n",
      "  warnings.warn(\n",
      "C:\\Users\\Nicol\\AppData\\Local\\Packages\\PythonSoftwareFoundation.Python.3.10_qbz5n2kfra8p0\\LocalCache\\local-packages\\Python310\\site-packages\\sklearn\\linear_model\\_sag.py:352: ConvergenceWarning: The max_iter was reached which means the coef_ did not converge\n",
      "  warnings.warn(\n",
      "C:\\Users\\Nicol\\AppData\\Local\\Packages\\PythonSoftwareFoundation.Python.3.10_qbz5n2kfra8p0\\LocalCache\\local-packages\\Python310\\site-packages\\sklearn\\linear_model\\_sag.py:352: ConvergenceWarning: The max_iter was reached which means the coef_ did not converge\n",
      "  warnings.warn(\n",
      "C:\\Users\\Nicol\\AppData\\Local\\Packages\\PythonSoftwareFoundation.Python.3.10_qbz5n2kfra8p0\\LocalCache\\local-packages\\Python310\\site-packages\\sklearn\\linear_model\\_sag.py:352: ConvergenceWarning: The max_iter was reached which means the coef_ did not converge\n",
      "  warnings.warn(\n",
      "C:\\Users\\Nicol\\AppData\\Local\\Packages\\PythonSoftwareFoundation.Python.3.10_qbz5n2kfra8p0\\LocalCache\\local-packages\\Python310\\site-packages\\sklearn\\linear_model\\_sag.py:352: ConvergenceWarning: The max_iter was reached which means the coef_ did not converge\n",
      "  warnings.warn(\n",
      "C:\\Users\\Nicol\\AppData\\Local\\Packages\\PythonSoftwareFoundation.Python.3.10_qbz5n2kfra8p0\\LocalCache\\local-packages\\Python310\\site-packages\\sklearn\\linear_model\\_sag.py:352: ConvergenceWarning: The max_iter was reached which means the coef_ did not converge\n",
      "  warnings.warn(\n",
      "C:\\Users\\Nicol\\AppData\\Local\\Packages\\PythonSoftwareFoundation.Python.3.10_qbz5n2kfra8p0\\LocalCache\\local-packages\\Python310\\site-packages\\sklearn\\linear_model\\_sag.py:352: ConvergenceWarning: The max_iter was reached which means the coef_ did not converge\n",
      "  warnings.warn(\n",
      "C:\\Users\\Nicol\\AppData\\Local\\Packages\\PythonSoftwareFoundation.Python.3.10_qbz5n2kfra8p0\\LocalCache\\local-packages\\Python310\\site-packages\\sklearn\\linear_model\\_sag.py:352: ConvergenceWarning: The max_iter was reached which means the coef_ did not converge\n",
      "  warnings.warn(\n",
      "C:\\Users\\Nicol\\AppData\\Local\\Packages\\PythonSoftwareFoundation.Python.3.10_qbz5n2kfra8p0\\LocalCache\\local-packages\\Python310\\site-packages\\sklearn\\linear_model\\_sag.py:352: ConvergenceWarning: The max_iter was reached which means the coef_ did not converge\n",
      "  warnings.warn(\n",
      "C:\\Users\\Nicol\\AppData\\Local\\Packages\\PythonSoftwareFoundation.Python.3.10_qbz5n2kfra8p0\\LocalCache\\local-packages\\Python310\\site-packages\\sklearn\\linear_model\\_sag.py:352: ConvergenceWarning: The max_iter was reached which means the coef_ did not converge\n",
      "  warnings.warn(\n",
      "C:\\Users\\Nicol\\AppData\\Local\\Packages\\PythonSoftwareFoundation.Python.3.10_qbz5n2kfra8p0\\LocalCache\\local-packages\\Python310\\site-packages\\sklearn\\linear_model\\_sag.py:352: ConvergenceWarning: The max_iter was reached which means the coef_ did not converge\n",
      "  warnings.warn(\n"
     ]
    }
   ],
   "source": [
    "# Set up our models\n",
    "from sklearn.model_selection import GridSearchCV\n",
    "lasso_params = {'C':np.linspace(1e-10,100,100)}\n",
    "ridge_params = {'C':np.linspace(1e-10,100,100)}\n",
    "elastic_params = {'C':np.linspace(1e-10,100,100), 'l1_ratio':np.linspace(0,1,20)}\n",
    "\n",
    "# Solvers: lbfgs for all but L1 regularization; saga for L1 regularization\n",
    "# See: https://towardsdatascience.com/dont-sweat-the-solver-stuff-aea7cddc3451\n",
    "\n",
    "models = {'OLS': LogisticRegression(penalty = 'none',tol = 1e-3, random_state=100,\n",
    "                                                solver = 'lbfgs', n_jobs=-1),\n",
    "          'Lasso': GridSearchCV(LogisticRegression(penalty = 'l1',tol = 1e-3, random_state=100,\n",
    "                                                  solver = 'saga', n_jobs=-1), \n",
    "                                param_grid=lasso_params).fit(PV_train, OV_HvMDD_train).best_estimator_,\n",
    "          'Ridge': GridSearchCV(LogisticRegression(penalty = 'l2', tol = 1e-3, random_state = 100,\n",
    "                                                               solver = 'lbfgs', n_jobs=-1),\n",
    "                                 param_grid=ridge_params).fit(PV_train, OV_HvMDD_train).best_estimator_,\n",
    "          'Elastic': GridSearchCV(LogisticRegression(penalty = 'elasticnet', tol = 1e-3, random_state = 100,\n",
    "                                                     solver = 'saga', n_jobs=-1),\n",
    "                                  param_grid=elastic_params).fit(PV_train, OV_HvMDD_train).best_estimator_}\n",
    " \n",
    "MyRes = TuningModelsClassif(models, PV_train, OV_HvMDD_train, val_size = 0.2, iterations = 100)"
   ]
  },
  {
   "cell_type": "code",
   "execution_count": 16,
   "metadata": {},
   "outputs": [
    {
     "data": {
      "text/plain": [
       "0.0"
      ]
     },
     "execution_count": 16,
     "metadata": {},
     "output_type": "execute_result"
    }
   ],
   "source": [
    "models['Elastic'].l1_ratio"
   ]
  },
  {
   "cell_type": "code",
   "execution_count": 17,
   "metadata": {},
   "outputs": [
    {
     "name": "stdout",
     "output_type": "stream",
     "text": [
      "Optimal Lambda for LASSO = 0.9899999999029799\n",
      "Optimal Lambda for Ridge = 0.32999999998943996\n",
      "Optimal Lambda for Elastic = 0.9899999999029799\n",
      "Optimal L1 Ratio for Elastic = inf\n"
     ]
    },
    {
     "name": "stderr",
     "output_type": "stream",
     "text": [
      "C:\\Users\\Nick Tekieli\\AppData\\Local\\Temp\\ipykernel_5632\\3676783522.py:5: RuntimeWarning: divide by zero encountered in double_scalars\n",
      "  print('Optimal L1 Ratio for Elastic = ' + str(1/models['Elastic'].l1_ratio))\n"
     ]
    }
   ],
   "source": [
    "# Examine the best lambda (alpha) values\n",
    "print('Optimal Lambda for LASSO = ' + str(1/models['Lasso'].C))\n",
    "print('Optimal Lambda for Ridge = ' + str(1/models['Ridge'].C))\n",
    "print('Optimal Lambda for Elastic = ' + str(1/models['Elastic'].C))\n",
    "print('Optimal L1 Ratio for Elastic = ' + str(1/models['Elastic'].l1_ratio))"
   ]
  },
  {
   "cell_type": "code",
   "execution_count": 131,
   "metadata": {},
   "outputs": [
    {
     "name": "stdout",
     "output_type": "stream",
     "text": [
      "OLS LogReg AUC = 0.45000000000000007\n",
      "OLS LogReg BalAcc = 0.45\n",
      "OLS LogReg F1 = 0.5\n",
      "Matthews Correlation Coefficient: -0.1\n",
      "Log Loss: 18.839550651068606\n",
      "Lasso LogReg AUC = 0.5333333333333333\n",
      "Lasso LogReg BalAcc = 0.5333333333333333\n",
      "Lasso LogReg F1 = 0.6153846153846153\n",
      "Matthews Correlation Coefficient: 0.06900655593423542\n",
      "Log Loss: 15.699661887894907\n",
      "Ridge LogReg AUC = 0.5333333333333333\n",
      "Ridge LogReg BalAcc = 0.5333333333333333\n",
      "Ridge LogReg F1 = 0.6153846153846153\n",
      "Matthews Correlation Coefficient: 0.06900655593423542\n",
      "Log Loss: 15.699661887894907\n",
      "Elastic LogReg AUC = 0.5333333333333333\n",
      "Elastic LogReg BalAcc = 0.5333333333333333\n",
      "Elastic LogReg F1 = 0.6153846153846153\n",
      "Matthews Correlation Coefficient: 0.06900655593423542\n",
      "Log Loss: 15.699661887894907\n"
     ]
    },
    {
     "name": "stderr",
     "output_type": "stream",
     "text": [
      "C:\\Users\\Nicol\\AppData\\Local\\Packages\\PythonSoftwareFoundation.Python.3.10_qbz5n2kfra8p0\\LocalCache\\local-packages\\Python310\\site-packages\\sklearn\\linear_model\\_sag.py:352: ConvergenceWarning: The max_iter was reached which means the coef_ did not converge\n",
      "  warnings.warn(\n"
     ]
    },
    {
     "data": {
      "text/plain": [
       "<sklearn.metrics._plot.confusion_matrix.ConfusionMatrixDisplay at 0x1dcf7cad1e0>"
      ]
     },
     "execution_count": 131,
     "metadata": {},
     "output_type": "execute_result"
    },
    {
     "data": {
      "image/png": "[encoded data removed]",
      "text/plain": [
       "<Figure size 432x288 with 2 Axes>"
      ]
     },
     "metadata": {
      "needs_background": "light"
     },
     "output_type": "display_data"
    },
    {
     "data": {
      "image/png": "[encoded data removed]",
      "text/plain": [
       "<Figure size 432x288 with 2 Axes>"
      ]
     },
     "metadata": {
      "needs_background": "light"
     },
     "output_type": "display_data"
    },
    {
     "data": {
      "image/png": "[encoded data removed]",
      "text/plain": [
       "<Figure size 432x288 with 2 Axes>"
      ]
     },
     "metadata": {
      "needs_background": "light"
     },
     "output_type": "display_data"
    },
    {
     "data": {
      "image/png": "[encoded data removed]",
      "text/plain": [
       "<Figure size 432x288 with 2 Axes>"
      ]
     },
     "metadata": {
      "needs_background": "light"
     },
     "output_type": "display_data"
    }
   ],
   "source": [
    "from sklearn.linear_model import LogisticRegression\n",
    "from sklearn import metrics\n",
    "OLSLogReg = LogisticRegression(penalty = 'none', tol = 1e-3, random_state = 100, solver = 'lbfgs')\n",
    "OLSLogReg.fit(PV_train, OV_HvMDD_train)\n",
    "OLSLogRegPredictTest = OLSLogReg.predict(PV_test)\n",
    "OLSLogRegAUC = metrics.roc_auc_score(OV_HvMDD_test, OLSLogRegPredictTest)\n",
    "print('OLS LogReg AUC = ' + str(OLSLogRegAUC))\n",
    "OLSLogRegBalAcc = metrics.balanced_accuracy_score(OV_HvMDD_test, OLSLogRegPredictTest)\n",
    "print('OLS LogReg BalAcc = ' + str(OLSLogRegBalAcc))\n",
    "OLSLogRegF1 = metrics.f1_score(OV_HvMDD_test, OLSLogRegPredictTest)\n",
    "print('OLS LogReg F1 = ' + str(OLSLogRegF1))\n",
    "\n",
    "print('Matthews Correlation Coefficient:', metrics.matthews_corrcoef(OV_HvMDD_test, OLSLogRegPredictTest))\n",
    "print('Log Loss:', metrics.log_loss(OV_HvMDD_test, OLSLogRegPredictTest))\n",
    "\n",
    "metrics.ConfusionMatrixDisplay(metrics.confusion_matrix(OV_HvMDD_test, OLSLogRegPredictTest)).plot()\n",
    "\n",
    "LassoLogReg = LogisticRegression(penalty = 'l1', tol = 1e-3, random_state = 100, solver = 'saga',\n",
    "                                C = models['Lasso'].C)\n",
    "LassoLogReg.fit(PV_train, OV_HvMDD_train)\n",
    "LassoLogRegPredictTest = LassoLogReg.predict(PV_test)\n",
    "LassoLogRegAUC = metrics.roc_auc_score(OV_HvMDD_test, LassoLogRegPredictTest)\n",
    "print('Lasso LogReg AUC = ' + str(LassoLogRegAUC))\n",
    "LassoLogRegBalAcc = metrics.balanced_accuracy_score(OV_HvMDD_test, LassoLogRegPredictTest)\n",
    "print('Lasso LogReg BalAcc = ' + str(LassoLogRegBalAcc))\n",
    "LassoLogRegF1 = metrics.f1_score(OV_HvMDD_test, LassoLogRegPredictTest)\n",
    "print('Lasso LogReg F1 = ' + str(LassoLogRegF1))\n",
    "\n",
    "print('Matthews Correlation Coefficient:', metrics.matthews_corrcoef(OV_HvMDD_test, LassoLogRegPredictTest))\n",
    "print('Log Loss:', metrics.log_loss(OV_HvMDD_test, LassoLogRegPredictTest))\n",
    "\n",
    "metrics.ConfusionMatrixDisplay(metrics.confusion_matrix(OV_HvMDD_test, LassoLogRegPredictTest)).plot()\n",
    "\n",
    "RidgeLogReg = LogisticRegression(penalty = 'l2', tol = 1e-3, random_state = 100, solver = 'lbfgs',\n",
    "                                C = models['Ridge'].C)\n",
    "RidgeLogReg.fit(PV_train, OV_HvMDD_train)\n",
    "RidgeLogRegPredictTest = RidgeLogReg.predict(PV_test)\n",
    "RidgeLogRegAUC = metrics.roc_auc_score(OV_HvMDD_test, RidgeLogRegPredictTest)\n",
    "print('Ridge LogReg AUC = ' + str(RidgeLogRegAUC))\n",
    "RidgeLogRegBalAcc = metrics.balanced_accuracy_score(OV_HvMDD_test, RidgeLogRegPredictTest)\n",
    "print('Ridge LogReg BalAcc = ' + str(RidgeLogRegBalAcc))\n",
    "RidgeLogRegF1 = metrics.f1_score(OV_HvMDD_test, RidgeLogRegPredictTest)\n",
    "print('Ridge LogReg F1 = ' + str(RidgeLogRegF1))\n",
    "\n",
    "print('Matthews Correlation Coefficient:', metrics.matthews_corrcoef(OV_HvMDD_test, RidgeLogRegPredictTest))\n",
    "print('Log Loss:', metrics.log_loss(OV_HvMDD_test, RidgeLogRegPredictTest))\n",
    "\n",
    "metrics.ConfusionMatrixDisplay(metrics.confusion_matrix(OV_HvMDD_test, RidgeLogRegPredictTest)).plot()\n",
    "\n",
    "ElasticLogReg = LogisticRegression(penalty = 'elasticnet', tol = 1e-3, random_state = 100, solver = 'saga',\n",
    "                                C = models['Elastic'].C, l1_ratio = 1)\n",
    "ElasticLogReg.fit(PV_train, OV_HvMDD_train)\n",
    "ElasticLogRegPredictTest = RidgeLogReg.predict(PV_test)\n",
    "ElasticLogRegAUC = metrics.roc_auc_score(OV_HvMDD_test, ElasticLogRegPredictTest)\n",
    "print('Elastic LogReg AUC = ' + str(ElasticLogRegAUC))\n",
    "ElasticLogRegBalAcc = metrics.balanced_accuracy_score(OV_HvMDD_test, ElasticLogRegPredictTest)\n",
    "print('Elastic LogReg BalAcc = ' + str(ElasticLogRegBalAcc))\n",
    "ElasticLogRegF1 = metrics.f1_score(OV_HvMDD_test, ElasticLogRegPredictTest)\n",
    "print('Elastic LogReg F1 = ' + str(ElasticLogRegF1))\n",
    "\n",
    "print('Matthews Correlation Coefficient:', metrics.matthews_corrcoef(OV_HvMDD_test, ElasticLogRegPredictTest))\n",
    "print('Log Loss:', metrics.log_loss(OV_HvMDD_test, ElasticLogRegPredictTest))\n",
    "\n",
    "metrics.ConfusionMatrixDisplay(metrics.confusion_matrix(OV_HvMDD_test, ElasticLogRegPredictTest)).plot()"
   ]
  },
  {
   "cell_type": "code",
   "execution_count": null,
   "metadata": {},
   "outputs": [
    {
     "data": {
      "text/plain": [
       "(11, 3)"
      ]
     },
     "execution_count": 61,
     "metadata": {},
     "output_type": "execute_result"
    }
   ],
   "source": [
    "from sklearn.preprocessing import LabelBinarizer\n",
    "\n",
    "label_binarizer = LabelBinarizer().fit(OV_RvNR_train)\n",
    "y_onehot_test = label_binarizer.transform(OV_RvNR_test)\n",
    "y_onehot_test.shape  # (n_samples, n_classes)"
   ]
  },
  {
   "cell_type": "code",
   "execution_count": 98,
   "metadata": {},
   "outputs": [
    {
     "name": "stdout",
     "output_type": "stream",
     "text": [
      "OLS LogReg AUC = 0.46458333333333335\n",
      "OLS LogReg BalAcc = 0.24444444444444446\n",
      "OLS LogReg F1 = 0.2727272727272727\n"
     ]
    }
   ],
   "source": [
    "OLSLogReg = LogisticRegression(multi_class='multinomial', penalty = 'none', tol = 1e-3, random_state = 100, solver = 'lbfgs')\n",
    "OLSLogReg.fit(PV_train, OV_HvMDD_train)\n",
    "OLSLogRegPredictProbaTest = OLSLogReg.predict_proba(PV_test)\n",
    "OLSLogRegPredictTest = OLSLogReg.predict(PV_test)\n",
    "OLSLogRegAUC = metrics.roc_auc_score(y_onehot_test, OLSLogRegPredictProbaTest, multi_class='ovr')\n",
    "print('OLS LogReg AUC = ' + str(OLSLogRegAUC))\n",
    "OLSLogRegBalAcc = metrics.balanced_accuracy_score(OV_RvNR_test, OLSLogRegPredictTest)\n",
    "print('OLS LogReg BalAcc = ' + str(OLSLogRegBalAcc))\n",
    "OLSLogRegF1 = metrics.f1_score(OV_RvNR_test, OLSLogRegPredictTest, average='micro')\n",
    "print('OLS LogReg F1 = ' + str(OLSLogRegF1))"
   ]
  },
  {
   "cell_type": "markdown",
   "metadata": {},
   "source": [
    "#  Linear and RBF Support Vector Machines"
   ]
  },
  {
   "cell_type": "code",
   "execution_count": 133,
   "metadata": {},
   "outputs": [
    {
     "data": {
      "text/plain": [
       "SVC(C=10000, degree=10, gamma='auto', kernel='linear', random_state=100)"
      ]
     },
     "execution_count": 133,
     "metadata": {},
     "output_type": "execute_result"
    }
   ],
   "source": [
    "import sklearn.metrics as metrics\n",
    "# Train the classifier\n",
    "# Specify parameters\n",
    "kernel_choice = 'linear'\n",
    "# C is the Regularizaton Parameter\n",
    "# C Multiplies the Loss Function\n",
    "# So the lower C is, the Softer the penalty for violating the boundaries\n",
    "# So the higher C is, the Harder the penalty for violating the boundaries\n",
    "# C is related to the \"slack variable\", which determines how fuzzy the classificaton\n",
    "# boundaries are\n",
    "C = 10000\n",
    "gamma_choice = 'auto' # irrelevant for linear kernels\n",
    "degree_choice = 10 #irrelevant unless there is a polynomial kernel\n",
    "\n",
    "# Specify our object\n",
    "from sklearn.svm import SVC\n",
    "MySVC = SVC(C = C, kernel = kernel_choice, gamma = gamma_choice, degree = degree_choice, random_state=100)\n",
    "\n",
    "# Train our SVC\n",
    "from sklearn.preprocessing import scale as CenterScale\n",
    "MySVC.fit(CenterScale(PV_train), OV_HvMDD_train)"
   ]
  },
  {
   "cell_type": "code",
   "execution_count": 134,
   "metadata": {},
   "outputs": [
    {
     "name": "stdout",
     "output_type": "stream",
     "text": [
      "Number of Support Vectors for each Class = [9 8]\n"
     ]
    }
   ],
   "source": [
    "# Explore our classifier\n",
    "print('Number of Support Vectors for each Class = ' + str(MySVC.n_support_))\n",
    "#print('Median of Feature Weights (only available for Linear Kernel) = ' + str(np.median(MySVC.coef_)))\n",
    "#print('Maximum of Feature Weights (only available for Linear Kernel) = ' + str(np.max(MySVC.coef_)))"
   ]
  },
  {
   "cell_type": "code",
   "execution_count": 135,
   "metadata": {},
   "outputs": [
    {
     "name": "stdout",
     "output_type": "stream",
     "text": [
      "AUC = 0.7333333333333333\n",
      "Balanced Accuracy = 0.7333333333333334\n",
      "F1 = 0.7272727272727272\n",
      "Matthews Correlation Coefficient: 0.4666666666666667\n",
      "Log Loss: 9.419738980196568\n"
     ]
    },
    {
     "data": {
      "text/plain": [
       "<sklearn.metrics._plot.confusion_matrix.ConfusionMatrixDisplay at 0x1dcf7b299c0>"
      ]
     },
     "execution_count": 135,
     "metadata": {},
     "output_type": "execute_result"
    },
    {
     "data": {
      "image/png": "[encoded data removed]",
      "text/plain": [
       "<Figure size 432x288 with 2 Axes>"
      ]
     },
     "metadata": {
      "needs_background": "light"
     },
     "output_type": "display_data"
    }
   ],
   "source": [
    "# Test the classifier\n",
    "TestPred = MySVC.predict(CenterScale(PV_test))\n",
    "AUCResult = metrics.roc_auc_score(OV_HvMDD_test, TestPred)\n",
    "print('AUC = ' + str(AUCResult))\n",
    "BalAccResult = metrics.balanced_accuracy_score(OV_HvMDD_test, TestPred)\n",
    "print('Balanced Accuracy = ' + str(BalAccResult))\n",
    "F1Result = metrics.f1_score(OV_HvMDD_test, TestPred)\n",
    "print('F1 = ' + str(F1Result))\n",
    "\n",
    "print('Matthews Correlation Coefficient:', metrics.matthews_corrcoef(OV_HvMDD_test, TestPred))\n",
    "print('Log Loss:', metrics.log_loss(OV_HvMDD_test, TestPred))\n",
    "\n",
    "metrics.ConfusionMatrixDisplay(metrics.confusion_matrix(OV_HvMDD_test, TestPred)).plot()"
   ]
  },
  {
   "cell_type": "code",
   "execution_count": 102,
   "metadata": {},
   "outputs": [
    {
     "data": {
      "text/plain": [
       "SVC(C=10000, degree=10, gamma='auto', probability=True, random_state=100)"
      ]
     },
     "execution_count": 102,
     "metadata": {},
     "output_type": "execute_result"
    }
   ],
   "source": [
    "# Train the classifier\n",
    "# Specify parameters\n",
    "kernel_choice = 'rbf'\n",
    "# C is the Regularizaton Parameter\n",
    "# C Multiplies the Loss Function\n",
    "# So the lower C is, the Softer the penalty for violating the boundaries\n",
    "# So the higher C is, the Harder the penalty for violating the boundaries\n",
    "# C is related to the \"slack variable\", which determines how fuzzy the classificaton\n",
    "# boundaries are\n",
    "C = 10000\n",
    "gamma_choice = 'auto' # irrelevant for linear kernels\n",
    "degree_choice = 10 #irrelevant unless there is a polynomial kernel\n",
    "\n",
    "# Specify our object\n",
    "from sklearn.svm import SVC\n",
    "MySVC = SVC(C = C, kernel = kernel_choice, gamma = gamma_choice, degree = degree_choice, random_state=100, probability=True)\n",
    "\n",
    "# Train our SVC\n",
    "from sklearn.preprocessing import scale as CenterScale\n",
    "MySVC.fit(CenterScale(PV_train), OV_RvNR_train)"
   ]
  },
  {
   "cell_type": "code",
   "execution_count": 103,
   "metadata": {},
   "outputs": [
    {
     "name": "stdout",
     "output_type": "stream",
     "text": [
      "Number of Support Vectors for each Class = [11  7 13]\n"
     ]
    }
   ],
   "source": [
    "# Explore our classifier\n",
    "print('Number of Support Vectors for each Class = ' + str(MySVC.n_support_))\n",
    "#print('Median of Feature Weights (only available for Linear Kernel) = ' + str(np.median(MySVC.coef_)))\n",
    "#print('Maximum of Feature Weights (only available for Linear Kernel) = ' + str(np.max(MySVC.coef_)))"
   ]
  },
  {
   "cell_type": "code",
   "execution_count": 105,
   "metadata": {},
   "outputs": [
    {
     "name": "stdout",
     "output_type": "stream",
     "text": [
      "AUC = 0.4305555555555556\n",
      "Balanced Accuracy = 0.35555555555555557\n",
      "F1 = 0.36363636363636365\n"
     ]
    }
   ],
   "source": [
    "# Test the classifier\n",
    "TestPred = MySVC.predict(CenterScale(PV_test))\n",
    "TestPredProba = MySVC.predict_proba(CenterScale(PV_test))\n",
    "AUCResult = metrics.roc_auc_score(y_onehot_test, TestPredProba, multi_class='ovr')\n",
    "print('AUC = ' + str(AUCResult))\n",
    "BalAccResult = metrics.balanced_accuracy_score(OV_RvNR_test, TestPred)\n",
    "print('Balanced Accuracy = ' + str(BalAccResult))\n",
    "F1Result = metrics.f1_score(OV_RvNR_test, TestPred, average='micro')\n",
    "print('F1 = ' + str(F1Result))"
   ]
  },
  {
   "cell_type": "markdown",
   "metadata": {},
   "source": [
    "# XGBoost"
   ]
  },
  {
   "cell_type": "code",
   "execution_count": 109,
   "metadata": {},
   "outputs": [
    {
     "name": "stdout",
     "output_type": "stream",
     "text": [
      "AUC = 0.6166666666666667\n",
      "Balanced Accuracy = 0.6166666666666667\n",
      "F1 = 0.7142857142857143\n",
      "Matthews Correlation Coefficient: 0.2608745973749754\n",
      "Log Loss: 12.55977312472121\n"
     ]
    },
    {
     "data": {
      "text/plain": [
       "<sklearn.metrics._plot.confusion_matrix.ConfusionMatrixDisplay at 0x1dcf72388b0>"
      ]
     },
     "execution_count": 109,
     "metadata": {},
     "output_type": "execute_result"
    },
    {
     "data": {
      "image/png": "[encoded data removed]",
      "text/plain": [
       "<Figure size 576x396 with 2 Axes>"
      ]
     },
     "metadata": {},
     "output_type": "display_data"
    }
   ],
   "source": [
    "from xgboost import XGBClassifier\n",
    "XGBReg = XGBClassifier()\n",
    "XGBReg.fit(PV_train, OV_HvMDD_train)\n",
    "\n",
    "# Test the classifier\n",
    "TestPred = XGBReg.predict(PV_test)\n",
    "AUCResult = metrics.roc_auc_score(OV_HvMDD_test, TestPred)\n",
    "print('AUC = ' + str(AUCResult))\n",
    "BalAccResult = metrics.balanced_accuracy_score(OV_HvMDD_test, TestPred)\n",
    "print('Balanced Accuracy = ' + str(BalAccResult))\n",
    "F1Result = metrics.f1_score(OV_HvMDD_test, TestPred)\n",
    "print('F1 = ' + str(F1Result))\n",
    "\n",
    "print('Matthews Correlation Coefficient:', metrics.matthews_corrcoef(OV_HvMDD_test, TestPred))\n",
    "print('Log Loss:', metrics.log_loss(OV_HvMDD_test, TestPred))\n",
    "\n",
    "metrics.ConfusionMatrixDisplay(metrics.confusion_matrix(OV_HvMDD_test, TestPred)).plot()"
   ]
  },
  {
   "cell_type": "code",
   "execution_count": 110,
   "metadata": {},
   "outputs": [
    {
     "name": "stderr",
     "output_type": "stream",
     "text": [
      "C:\\Users\\Nicol\\AppData\\Local\\Packages\\PythonSoftwareFoundation.Python.3.10_qbz5n2kfra8p0\\LocalCache\\local-packages\\Python310\\site-packages\\xgboost\\sklearn.py:1421: UserWarning: `use_label_encoder` is deprecated in 1.7.0.\n",
      "  warnings.warn(\"`use_label_encoder` is deprecated in 1.7.0.\")\n",
      "C:\\Users\\Nicol\\AppData\\Local\\Packages\\PythonSoftwareFoundation.Python.3.10_qbz5n2kfra8p0\\LocalCache\\local-packages\\Python310\\site-packages\\xgboost\\sklearn.py:1421: UserWarning: `use_label_encoder` is deprecated in 1.7.0.\n",
      "  warnings.warn(\"`use_label_encoder` is deprecated in 1.7.0.\")\n",
      "C:\\Users\\Nicol\\AppData\\Local\\Packages\\PythonSoftwareFoundation.Python.3.10_qbz5n2kfra8p0\\LocalCache\\local-packages\\Python310\\site-packages\\xgboost\\sklearn.py:1421: UserWarning: `use_label_encoder` is deprecated in 1.7.0.\n",
      "  warnings.warn(\"`use_label_encoder` is deprecated in 1.7.0.\")\n",
      "C:\\Users\\Nicol\\AppData\\Local\\Packages\\PythonSoftwareFoundation.Python.3.10_qbz5n2kfra8p0\\LocalCache\\local-packages\\Python310\\site-packages\\xgboost\\sklearn.py:1421: UserWarning: `use_label_encoder` is deprecated in 1.7.0.\n",
      "  warnings.warn(\"`use_label_encoder` is deprecated in 1.7.0.\")\n",
      "C:\\Users\\Nicol\\AppData\\Local\\Packages\\PythonSoftwareFoundation.Python.3.10_qbz5n2kfra8p0\\LocalCache\\local-packages\\Python310\\site-packages\\xgboost\\sklearn.py:1421: UserWarning: `use_label_encoder` is deprecated in 1.7.0.\n",
      "  warnings.warn(\"`use_label_encoder` is deprecated in 1.7.0.\")\n"
     ]
    },
    {
     "name": "stdout",
     "output_type": "stream",
     "text": [
      "Fitting 3 folds for each of 1 candidates, totalling 3 fits\n",
      "{'base_score': 0.5, 'booster': 'gbtree', 'callbacks': None, 'colsample_bylevel': 1, 'colsample_bynode': 1, 'colsample_bytree': 1, 'early_stopping_rounds': None, 'enable_categorical': False, 'eval_metric': 'auc', 'feature_types': None, 'gamma': 0, 'gpu_id': -1, 'grow_policy': 'lossguide', 'importance_type': None, 'interaction_constraints': '', 'learning_rate': 0.300000012, 'max_bin': 256, 'max_cat_threshold': 64, 'max_cat_to_onehot': 4, 'max_delta_step': 0, 'max_depth': 6, 'max_leaves': 0, 'min_child_weight': 1, 'missing': nan, 'monotone_constraints': '()', 'n_estimators': 100, 'n_jobs': 0, 'num_parallel_tree': 1, 'objective': 'binary:logistic', 'predictor': 'auto', 'random_state': 0, 'reg_alpha': 0, 'reg_lambda': 1, 'sampling_method': 'uniform', 'scale_pos_weight': 1, 'subsample': 1, 'tree_method': 'hist', 'use_label_encoder': False, 'validate_parameters': 1, 'verbosity': None}\n",
      "0.7\n"
     ]
    },
    {
     "name": "stderr",
     "output_type": "stream",
     "text": [
      "C:\\Users\\Nicol\\AppData\\Local\\Packages\\PythonSoftwareFoundation.Python.3.10_qbz5n2kfra8p0\\LocalCache\\local-packages\\Python310\\site-packages\\xgboost\\sklearn.py:1421: UserWarning: `use_label_encoder` is deprecated in 1.7.0.\n",
      "  warnings.warn(\"`use_label_encoder` is deprecated in 1.7.0.\")\n"
     ]
    }
   ],
   "source": [
    "# Use XGBoost algorithm\n",
    "import xgboost as xgb\n",
    "from sklearn import model_selection, preprocessing, metrics\n",
    "from sklearn.model_selection import GridSearchCV\n",
    "import pandas as pd\n",
    "from sklearn.metrics import accuracy_score,f1_score,roc_auc_score,confusion_matrix,roc_curve\n",
    "from copy import deepcopy\n",
    "import time\n",
    "import warnings\n",
    "\n",
    "\n",
    "\n",
    "\n",
    "xgbc0 = xgb.XGBClassifier(objective='binary:logistic',\n",
    "                          booster='gbtree',\n",
    "                          eval_metric='auc',\n",
    "                          tree_method='hist',\n",
    "                          grow_policy='lossguide',\n",
    "                          use_label_encoder=False)\n",
    "xgbc0.fit(PV_train, OV_HvMDD_train)\n",
    "\n",
    "#extracting default parameters from benchmark model\n",
    "default_params = {}\n",
    "gparams = xgbc0.get_params()\n",
    "\n",
    "#default parameters have to be wrapped in lists - even single values - so GridSearchCV can take them as inputs\n",
    "for key in gparams.keys():\n",
    "    gp = gparams[key]\n",
    "    default_params[key] = [gp]\n",
    "\n",
    "#benchmark model. Grid search is not performed, since only single values are provided as parameter grid.\n",
    "#However, cross-validation is still executed\n",
    "clf0 = GridSearchCV(estimator=xgbc0, scoring='accuracy', param_grid=default_params, return_train_score=True, verbose=1, cv=3)\n",
    "clf0.fit(PV_train, OV_HvMDD_train)\n",
    "\n",
    "#results dataframe\n",
    "df = pd.DataFrame(clf0.cv_results_)\n",
    "\n",
    "#predictions - inputs to confusion matrix\n",
    "train_predictions = clf0.predict(PV_train)\n",
    "test_predictions = clf0.predict(PV_test)\n",
    "\n",
    "#confusion matrices\n",
    "cfm_train = confusion_matrix(OV_HvMDD_train, train_predictions)\n",
    "cfm_test = confusion_matrix(OV_HvMDD_test, test_predictions)\n",
    "\n",
    "#accuracy scores\n",
    "accs_train = roc_auc_score(OV_HvMDD_train, train_predictions)\n",
    "accs_test = roc_auc_score(OV_HvMDD_test, test_predictions)\n",
    "\n",
    "#F1 scores for each train/test label\n",
    "f1s_train_p1 = f1_score(OV_HvMDD_train, train_predictions, pos_label=1)\n",
    "f1s_train_p0 = f1_score(OV_HvMDD_train, train_predictions, pos_label=0)\n",
    "f1s_test_p1 = f1_score(OV_HvMDD_test, test_predictions, pos_label=1)\n",
    "f1s_test_p0 = f1_score(OV_HvMDD_test, test_predictions, pos_label=0)\n",
    "\n",
    "#Area Under the Receiver Operating Characteristic Curve\n",
    "test_ras = roc_auc_score(OV_HvMDD_test, clf0.predict_proba(PV_test)[:,1])\n",
    "\n",
    "#best parameters\n",
    "bp = clf0.best_params_\n",
    "\n",
    "#storing computed values in results dictionary\n",
    "#dictionary for collecting results\n",
    "results_dict = {}\n",
    "results_dict['xgbc0'] = {'iterable_parameter': np.nan,\n",
    "                         'classifier': deepcopy(clf0),\n",
    "                         'cv_results': df.copy(),\n",
    "                         'cfm_train': cfm_train,\n",
    "                         'cfm_test': cfm_test,\n",
    "                         'train_accuracy': accs_train,\n",
    "                         'test_accuracy': accs_test,\n",
    "                         'train F1-score label 1': f1s_train_p1,\n",
    "                         'train F1-score label 0': f1s_train_p0,\n",
    "                         'test F1-score label 1': f1s_test_p1,\n",
    "                         'test F1-score label 0': f1s_test_p0,\n",
    "                         'test roc auc score': test_ras,\n",
    "                         'best_params': bp}\n",
    "print(bp)\n",
    "print(accs_test)"
   ]
  },
  {
   "cell_type": "code",
   "execution_count": 111,
   "metadata": {},
   "outputs": [
    {
     "name": "stderr",
     "output_type": "stream",
     "text": [
      "C:\\Users\\Nicol\\AppData\\Local\\Packages\\PythonSoftwareFoundation.Python.3.10_qbz5n2kfra8p0\\LocalCache\\local-packages\\Python310\\site-packages\\xgboost\\sklearn.py:1421: UserWarning: `use_label_encoder` is deprecated in 1.7.0.\n",
      "  warnings.warn(\"`use_label_encoder` is deprecated in 1.7.0.\")\n",
      "C:\\Users\\Nicol\\AppData\\Local\\Packages\\PythonSoftwareFoundation.Python.3.10_qbz5n2kfra8p0\\LocalCache\\local-packages\\Python310\\site-packages\\xgboost\\sklearn.py:1421: UserWarning: `use_label_encoder` is deprecated in 1.7.0.\n",
      "  warnings.warn(\"`use_label_encoder` is deprecated in 1.7.0.\")\n",
      "C:\\Users\\Nicol\\AppData\\Local\\Packages\\PythonSoftwareFoundation.Python.3.10_qbz5n2kfra8p0\\LocalCache\\local-packages\\Python310\\site-packages\\xgboost\\sklearn.py:1421: UserWarning: `use_label_encoder` is deprecated in 1.7.0.\n",
      "  warnings.warn(\"`use_label_encoder` is deprecated in 1.7.0.\")\n"
     ]
    },
    {
     "name": "stdout",
     "output_type": "stream",
     "text": [
      "Fitting 3 folds for each of 13 candidates, totalling 39 fits\n",
      "iteration #1 finished in: 4.057729244232178 seconds\n",
      "Fitting 3 folds for each of 12 candidates, totalling 36 fits\n"
     ]
    },
    {
     "name": "stderr",
     "output_type": "stream",
     "text": [
      "C:\\Users\\Nicol\\AppData\\Local\\Packages\\PythonSoftwareFoundation.Python.3.10_qbz5n2kfra8p0\\LocalCache\\local-packages\\Python310\\site-packages\\xgboost\\sklearn.py:1421: UserWarning: `use_label_encoder` is deprecated in 1.7.0.\n",
      "  warnings.warn(\"`use_label_encoder` is deprecated in 1.7.0.\")\n",
      "C:\\Users\\Nicol\\AppData\\Local\\Packages\\PythonSoftwareFoundation.Python.3.10_qbz5n2kfra8p0\\LocalCache\\local-packages\\Python310\\site-packages\\xgboost\\sklearn.py:1421: UserWarning: `use_label_encoder` is deprecated in 1.7.0.\n",
      "  warnings.warn(\"`use_label_encoder` is deprecated in 1.7.0.\")\n",
      "C:\\Users\\Nicol\\AppData\\Local\\Packages\\PythonSoftwareFoundation.Python.3.10_qbz5n2kfra8p0\\LocalCache\\local-packages\\Python310\\site-packages\\xgboost\\sklearn.py:1421: UserWarning: `use_label_encoder` is deprecated in 1.7.0.\n",
      "  warnings.warn(\"`use_label_encoder` is deprecated in 1.7.0.\")\n"
     ]
    },
    {
     "name": "stdout",
     "output_type": "stream",
     "text": [
      "iteration #2 finished in: 0.9489767551422119 seconds\n",
      "Fitting 3 folds for each of 10 candidates, totalling 30 fits\n"
     ]
    },
    {
     "name": "stderr",
     "output_type": "stream",
     "text": [
      "C:\\Users\\Nicol\\AppData\\Local\\Packages\\PythonSoftwareFoundation.Python.3.10_qbz5n2kfra8p0\\LocalCache\\local-packages\\Python310\\site-packages\\xgboost\\sklearn.py:1421: UserWarning: `use_label_encoder` is deprecated in 1.7.0.\n",
      "  warnings.warn(\"`use_label_encoder` is deprecated in 1.7.0.\")\n",
      "C:\\Users\\Nicol\\AppData\\Local\\Packages\\PythonSoftwareFoundation.Python.3.10_qbz5n2kfra8p0\\LocalCache\\local-packages\\Python310\\site-packages\\xgboost\\sklearn.py:1421: UserWarning: `use_label_encoder` is deprecated in 1.7.0.\n",
      "  warnings.warn(\"`use_label_encoder` is deprecated in 1.7.0.\")\n",
      "C:\\Users\\Nicol\\AppData\\Local\\Packages\\PythonSoftwareFoundation.Python.3.10_qbz5n2kfra8p0\\LocalCache\\local-packages\\Python310\\site-packages\\xgboost\\sklearn.py:1421: UserWarning: `use_label_encoder` is deprecated in 1.7.0.\n",
      "  warnings.warn(\"`use_label_encoder` is deprecated in 1.7.0.\")\n"
     ]
    },
    {
     "name": "stdout",
     "output_type": "stream",
     "text": [
      "iteration #3 finished in: 0.998131513595581 seconds\n",
      "Fitting 3 folds for each of 7 candidates, totalling 21 fits\n"
     ]
    },
    {
     "name": "stderr",
     "output_type": "stream",
     "text": [
      "C:\\Users\\Nicol\\AppData\\Local\\Packages\\PythonSoftwareFoundation.Python.3.10_qbz5n2kfra8p0\\LocalCache\\local-packages\\Python310\\site-packages\\xgboost\\sklearn.py:1421: UserWarning: `use_label_encoder` is deprecated in 1.7.0.\n",
      "  warnings.warn(\"`use_label_encoder` is deprecated in 1.7.0.\")\n",
      "C:\\Users\\Nicol\\AppData\\Local\\Packages\\PythonSoftwareFoundation.Python.3.10_qbz5n2kfra8p0\\LocalCache\\local-packages\\Python310\\site-packages\\xgboost\\sklearn.py:1421: UserWarning: `use_label_encoder` is deprecated in 1.7.0.\n",
      "  warnings.warn(\"`use_label_encoder` is deprecated in 1.7.0.\")\n",
      "C:\\Users\\Nicol\\AppData\\Local\\Packages\\PythonSoftwareFoundation.Python.3.10_qbz5n2kfra8p0\\LocalCache\\local-packages\\Python310\\site-packages\\xgboost\\sklearn.py:1421: UserWarning: `use_label_encoder` is deprecated in 1.7.0.\n",
      "  warnings.warn(\"`use_label_encoder` is deprecated in 1.7.0.\")\n"
     ]
    },
    {
     "name": "stdout",
     "output_type": "stream",
     "text": [
      "iteration #4 finished in: 0.6079161167144775 seconds\n",
      "Fitting 3 folds for each of 13 candidates, totalling 39 fits\n"
     ]
    },
    {
     "name": "stderr",
     "output_type": "stream",
     "text": [
      "C:\\Users\\Nicol\\AppData\\Local\\Packages\\PythonSoftwareFoundation.Python.3.10_qbz5n2kfra8p0\\LocalCache\\local-packages\\Python310\\site-packages\\xgboost\\sklearn.py:1421: UserWarning: `use_label_encoder` is deprecated in 1.7.0.\n",
      "  warnings.warn(\"`use_label_encoder` is deprecated in 1.7.0.\")\n",
      "C:\\Users\\Nicol\\AppData\\Local\\Packages\\PythonSoftwareFoundation.Python.3.10_qbz5n2kfra8p0\\LocalCache\\local-packages\\Python310\\site-packages\\xgboost\\sklearn.py:1421: UserWarning: `use_label_encoder` is deprecated in 1.7.0.\n",
      "  warnings.warn(\"`use_label_encoder` is deprecated in 1.7.0.\")\n",
      "C:\\Users\\Nicol\\AppData\\Local\\Packages\\PythonSoftwareFoundation.Python.3.10_qbz5n2kfra8p0\\LocalCache\\local-packages\\Python310\\site-packages\\xgboost\\sklearn.py:1421: UserWarning: `use_label_encoder` is deprecated in 1.7.0.\n",
      "  warnings.warn(\"`use_label_encoder` is deprecated in 1.7.0.\")\n"
     ]
    },
    {
     "name": "stdout",
     "output_type": "stream",
     "text": [
      "iteration #5 finished in: 0.6062312126159668 seconds\n",
      "Fitting 3 folds for each of 13 candidates, totalling 39 fits\n"
     ]
    },
    {
     "name": "stderr",
     "output_type": "stream",
     "text": [
      "C:\\Users\\Nicol\\AppData\\Local\\Packages\\PythonSoftwareFoundation.Python.3.10_qbz5n2kfra8p0\\LocalCache\\local-packages\\Python310\\site-packages\\xgboost\\sklearn.py:1421: UserWarning: `use_label_encoder` is deprecated in 1.7.0.\n",
      "  warnings.warn(\"`use_label_encoder` is deprecated in 1.7.0.\")\n",
      "C:\\Users\\Nicol\\AppData\\Local\\Packages\\PythonSoftwareFoundation.Python.3.10_qbz5n2kfra8p0\\LocalCache\\local-packages\\Python310\\site-packages\\xgboost\\sklearn.py:1421: UserWarning: `use_label_encoder` is deprecated in 1.7.0.\n",
      "  warnings.warn(\"`use_label_encoder` is deprecated in 1.7.0.\")\n",
      "C:\\Users\\Nicol\\AppData\\Local\\Packages\\PythonSoftwareFoundation.Python.3.10_qbz5n2kfra8p0\\LocalCache\\local-packages\\Python310\\site-packages\\xgboost\\sklearn.py:1421: UserWarning: `use_label_encoder` is deprecated in 1.7.0.\n",
      "  warnings.warn(\"`use_label_encoder` is deprecated in 1.7.0.\")\n"
     ]
    },
    {
     "name": "stdout",
     "output_type": "stream",
     "text": [
      "iteration #6 finished in: 0.853297233581543 seconds\n"
     ]
    }
   ],
   "source": [
    "# Now tune using GridSearchCV\n",
    "# See: https://towardsdatascience.com/binary-classification-xgboost-hyperparameter-tuning-scenarios-by-non-exhaustive-grid-search-and-c261f4ce098d\n",
    "\n",
    "#creating deepcopy of default parameters before manipulations\n",
    "params = deepcopy(default_params)\n",
    "\n",
    "#setting grid of selected parameters for iteration\n",
    "param_grid = {'gamma': [0,0.1,0.2,0.4,0.8,1.6,3.2,6.4,12.8,25.6,51.2,102.4, 200],\n",
    "              'learning_rate': [0.01, 0.03, 0.06, 0.1, 0.15, 0.2, 0.25, 0.3, 0.4, 0.5, 0.6, 0.7],\n",
    "              'max_depth': [5,6,7,8,9,10,11,12,13,14],\n",
    "              'n_estimators': [50,65,80,100,115,130,150],\n",
    "              'reg_alpha': [0,0.1,0.2,0.4,0.8,1.6,3.2,6.4,12.8,25.6,51.2,102.4,200],\n",
    "              'reg_lambda': [0,0.1,0.2,0.4,0.8,1.6,3.2,6.4,12.8,25.6,51.2,102.4,200]}\n",
    "\n",
    "#start time\n",
    "t0 = time.time()\n",
    "#No. of jobs\n",
    "gcvj = np.cumsum([len(x) for x in param_grid.values()])[-1]\n",
    "\n",
    "#iteration loop. Each selected parameter iterated separately\n",
    "for i,grid_key in enumerate(param_grid.keys()):\n",
    "    \n",
    "    #variable for measuring iteration time\n",
    "    loop_start = time.time()\n",
    "       \n",
    "    #creating param_grid argument for GridSearchCV:\n",
    "    #listing grid values of current iterable parameter and wrapping non-iterable parameter single values in list\n",
    "    for param_key in params.keys():\n",
    "        if param_key == grid_key:\n",
    "            params[param_key] = param_grid[grid_key]\n",
    "        else:\n",
    "            #use best parameters of last iteration\n",
    "            try:\n",
    "                param_value = [clf.best_params_[param_key]]\n",
    "                params[param_key] = param_value\n",
    "            #use benchmark model parameters for first iteration\n",
    "            except:\n",
    "                param_value = [clf0.best_params_[param_key]]\n",
    "                params[param_key] = param_value\n",
    "    \n",
    "    #classifier instance of current iteration\n",
    "    xgbc = xgb.XGBClassifier(**default_params)\n",
    "    \n",
    "    #GridSearch instance of current iteration\n",
    "    clf = GridSearchCV(estimator=xgbc, param_grid=params,\n",
    "                       scoring='roc_auc',\n",
    "                       return_train_score=True,\n",
    "                       verbose=1, cv=3, n_jobs = 3)\n",
    "    clf.fit(PV_train, OV_HvMDD_train)\n",
    "    \n",
    "    #results dataframe\n",
    "    df = pd.DataFrame(clf.cv_results_)\n",
    "    \n",
    "    #predictions - inputs to confusion matrix\n",
    "    train_predictions = clf.predict(PV_train)\n",
    "    test_predictions = clf.predict(PV_test)\n",
    "    \n",
    "    #confusion matrices\n",
    "    cfm_train = confusion_matrix(OV_HvMDD_train, train_predictions)\n",
    "    cfm_test = confusion_matrix(OV_HvMDD_test, test_predictions)\n",
    "    \n",
    "    #accuracy scores\n",
    "    accs_train = roc_auc_score(OV_HvMDD_train, train_predictions)\n",
    "    accs_test = roc_auc_score(OV_HvMDD_test, test_predictions)\n",
    "    \n",
    "    #F1 scores for each train/test label\n",
    "    f1s_train_p1 = f1_score(OV_HvMDD_train, train_predictions, pos_label=1)\n",
    "    f1s_train_p0 = f1_score(OV_HvMDD_train, train_predictions, pos_label=0)\n",
    "    f1s_test_p1 = f1_score(OV_HvMDD_test, test_predictions, pos_label=1)\n",
    "    f1s_test_p0 = f1_score(OV_HvMDD_test, test_predictions, pos_label=0)\n",
    "\n",
    "    #Area Under the Receiver Operating Characteristic Curve\n",
    "    test_ras = roc_auc_score(OV_HvMDD_test, clf.predict_proba(PV_test)[:,1])\n",
    "    \n",
    "    #best parameters\n",
    "    bp = clf.best_params_\n",
    "    \n",
    "    #storing computed values in results dictionary\n",
    "    results_dict[f'xgbc{i+1}'] = {'iterable_parameter': grid_key,\n",
    "                                  'classifier': deepcopy(clf),\n",
    "                                  'cv_results': df.copy(),\n",
    "                                  'cfm_train': cfm_train,\n",
    "                                  'cfm_test': cfm_test,\n",
    "                                  'train_accuracy': accs_train,\n",
    "                                  'test_accuracy': accs_test,\n",
    "                                  'train F1-score label 1': f1s_train_p1,\n",
    "                                  'train F1-score label 0': f1s_train_p0,\n",
    "                                  'test F1-score label 1': f1s_test_p1,\n",
    "                                  'test F1-score label 0': f1s_test_p0,\n",
    "                                  'test roc auc score': test_ras,\n",
    "                                  'best_params': bp}\n",
    "    \n",
    "    #variable for measuring iteration time\n",
    "    elapsed_time = time.time() - loop_start\n",
    "    print(f'iteration #{i+1} finished in: {elapsed_time} seconds')\n",
    "\n",
    "#stop time\n",
    "t1 = time.time()\n",
    "\n",
    "#elapsed time\n",
    "gcvt = t1 - t0"
   ]
  },
  {
   "cell_type": "code",
   "execution_count": 112,
   "metadata": {},
   "outputs": [
    {
     "name": "stdout",
     "output_type": "stream",
     "text": [
      "8.072282075881958\n",
      "XGBClassifier(base_score=0.5, booster='gbtree', callbacks=None,\n",
      "              colsample_bylevel=1, colsample_bynode=1, colsample_bytree=1,\n",
      "              early_stopping_rounds=None, enable_categorical=False,\n",
      "              eval_metric='auc', feature_types=None, gamma=0.4, gpu_id=-1,\n",
      "              grow_policy='lossguide', importance_type=None,\n",
      "              interaction_constraints='', learning_rate=0.5, max_bin=256,\n",
      "              max_cat_threshold=64, max_cat_to_onehot=4, max_delta_step=0,\n",
      "              max_depth=5, max_leaves=0, min_child_weight=1, missing=nan,\n",
      "              monotone_constraints='()', n_estimators=50, n_jobs=0,\n",
      "              num_parallel_tree=1, predictor='auto', random_state=0, ...)\n",
      "0.4000000000000001\n",
      "0.5\n"
     ]
    },
    {
     "name": "stderr",
     "output_type": "stream",
     "text": [
      "C:\\Users\\Nicol\\AppData\\Local\\Packages\\PythonSoftwareFoundation.Python.3.10_qbz5n2kfra8p0\\LocalCache\\local-packages\\Python310\\site-packages\\sklearn\\utils\\deprecation.py:87: FutureWarning: Function plot_confusion_matrix is deprecated; Function `plot_confusion_matrix` is deprecated in 1.0 and will be removed in 1.2. Use one of the class methods: ConfusionMatrixDisplay.from_predictions or ConfusionMatrixDisplay.from_estimator.\n",
      "  warnings.warn(msg, category=FutureWarning)\n"
     ]
    },
    {
     "data": {
      "image/png": "[encoded data removed]",
      "text/plain": [
       "<Figure size 576x396 with 2 Axes>"
      ]
     },
     "metadata": {},
     "output_type": "display_data"
    }
   ],
   "source": [
    "print(gcvt)\n",
    "print(clf.best_estimator_)\n",
    "\n",
    "test_predictions = clf.best_estimator_.predict(PV_test)\n",
    "metrics.plot_confusion_matrix(clf.best_estimator_, PV_test, OV_HvMDD_test)\n",
    "f1s_test_p1 = f1_score(OV_HvMDD_test, test_predictions, pos_label=1)\n",
    "f1s_test_p0 = f1_score(OV_HvMDD_test, test_predictions, pos_label=0)\n",
    "print(f1s_test_p0)\n",
    "print(f1s_test_p1)"
   ]
  },
  {
   "cell_type": "code",
   "execution_count": 113,
   "metadata": {},
   "outputs": [],
   "source": [
    "from matplotlib.colors import ListedColormap\n",
    "import matplotlib.pyplot as plt\n",
    "%matplotlib inline\n",
    "\n",
    "def plot_decision_regions(X, y, classifier, resolution=0.02):\n",
    "    \n",
    "    # setup marker generator and color map\n",
    "    markers = ('s', 'x', 'o', '^', 'v')\n",
    "    colors = ('red', 'blue', 'lightgreen', 'gray', 'cyan')\n",
    "    cmap = ListedColormap(colors[:len(np.unique(y))])\n",
    "\n",
    "    # plot the decision surface\n",
    "    x1_min, x1_max = X[:, 0].min() - 1, X[:, 0].max() + 1\n",
    "    x2_min, x2_max = X[:, 1].min() - 1, X[:, 1].max() + 1\n",
    "    xx1, xx2 = np.meshgrid(np.arange(x1_min, x1_max, resolution),\n",
    "    np.arange(x2_min, x2_max, resolution))\n",
    "    Z = classifier.predict(np.array([xx1.ravel(), xx2.ravel()]).T)\n",
    "    Z = Z.reshape(xx1.shape)\n",
    "    plt.contourf(xx1, xx2, Z, alpha=0.4, cmap=cmap)\n",
    "    plt.xlim(xx1.min(), xx1.max())\n",
    "    plt.ylim(xx2.min(), xx2.max())\n",
    "\n",
    "    # plot class samples\n",
    "    for idx, cl in enumerate(np.unique(y)):\n",
    "        plt.scatter(x=X[y == cl, 0], y=X[y == cl, 1], alpha=0.8, c=cmap(idx),\n",
    "                marker=markers[idx], label=cl)"
   ]
  },
  {
   "cell_type": "code",
   "execution_count": 114,
   "metadata": {},
   "outputs": [
    {
     "name": "stderr",
     "output_type": "stream",
     "text": [
      "*c* argument looks like a single numeric RGB or RGBA sequence, which should be avoided as value-mapping will have precedence in case its length matches with *x* & *y*.  Please use the *color* keyword-argument or provide a 2D array with a single row if you intend to specify the same RGB or RGBA value for all points.\n",
      "*c* argument looks like a single numeric RGB or RGBA sequence, which should be avoided as value-mapping will have precedence in case its length matches with *x* & *y*.  Please use the *color* keyword-argument or provide a 2D array with a single row if you intend to specify the same RGB or RGBA value for all points.\n"
     ]
    },
    {
     "data": {
      "image/png": "[encoded data removed]",
      "text/plain": [
       "<Figure size 432x288 with 1 Axes>"
      ]
     },
     "metadata": {
      "needs_background": "light"
     },
     "output_type": "display_data"
    }
   ],
   "source": [
    "from sklearn.linear_model import LogisticRegression\n",
    "from sklearn.decomposition import PCA\n",
    "\n",
    "pca = PCA(n_components=2)\n",
    "lr = LogisticRegression()\n",
    "X_train_pca = pca.fit_transform(PV_train)\n",
    "X_test_pca = pca.transform(PV_test)\n",
    "lr.fit(X_train_pca, OV_HvMDD_train)\n",
    "plot_decision_regions(X_train_pca, OV_HvMDD_train, classifier=lr)\n",
    "plt.xlabel('PC1')\n",
    "plt.ylabel('PC2')\n",
    "plt.legend(loc='lower left')\n",
    "plt.show()"
   ]
  },
  {
   "cell_type": "code",
   "execution_count": 115,
   "metadata": {},
   "outputs": [],
   "source": [
    "import pandas as pd\n",
    "from factor_analyzer import FactorAnalyzer\n",
    "import numpy as np\n",
    "import matplotlib.pyplot as plt\n",
    "#\n",
    "def _HornParallelAnalysis(data, K=10, printEigenvalues=True):\n",
    "    ################\n",
    "    # Create a random matrix to match the dataset\n",
    "    ################\n",
    "    n, m = data.shape\n",
    "    # Set the factor analysis parameters\n",
    "    fa = FactorAnalyzer(n_factors=1, method='minres', rotation=None, use_smc=True)\n",
    "    # Create arrays to store the values\n",
    "    sumComponentEigens = np.empty(m)\n",
    "    sumFactorEigens = np.empty(m)\n",
    "    # Run the fit 'K' times over a random matrix\n",
    "    for runNum in range(0, K):\n",
    "        fa.fit(np.random.normal(size=(n, m)))\n",
    "        sumComponentEigens = sumComponentEigens + fa.get_eigenvalues()[0]\n",
    "        sumFactorEigens = sumFactorEigens + fa.get_eigenvalues()[1]\n",
    "    # Average over the number of runs\n",
    "    avgComponentEigens = sumComponentEigens / K\n",
    "    avgFactorEigens = sumFactorEigens / K\n",
    "\n",
    "    ################\n",
    "    # Get the eigenvalues for the fit on supplied data\n",
    "    ################\n",
    "    fa.fit(data)\n",
    "    dataEv = fa.get_eigenvalues()\n",
    "    # Set up a scree plot\n",
    "    plt.figure(figsize=(8, 6))\n",
    "\n",
    "    ################\n",
    "    ### Print results\n",
    "    ################\n",
    "    if printEigenvalues:\n",
    "        print('Principal component eigenvalues for random matrix:\\n', avgComponentEigens)\n",
    "        print('Factor eigenvalues for random matrix:\\n', avgFactorEigens)\n",
    "        print('Principal component eigenvalues for data:\\n', dataEv[0])\n",
    "        print('Factor eigenvalues for data:\\n', dataEv[1])\n",
    "    # Find the suggested stopping points\n",
    "    suggestedFactors = sum((dataEv[1] - avgFactorEigens) > 0)\n",
    "    suggestedComponents = sum((dataEv[0] - avgComponentEigens) > 0)\n",
    "    print('Parallel analysis suggests that the number of factors = ', suggestedFactors , ' and the number of components = ', suggestedComponents)\n",
    "\n",
    "\n",
    "    ################\n",
    "    ### Plot the eigenvalues against the number of variables\n",
    "    ################\n",
    "    # Line for eigenvalue 1\n",
    "    plt.plot([0, m+1], [1, 1], 'k--', alpha=0.3)\n",
    "    # For the random data - Components\n",
    "    plt.plot(range(1, m+1), avgComponentEigens, 'b', label='PC - random', alpha=0.4)\n",
    "    # For the Data - Components\n",
    "    plt.scatter(range(1, m+1), dataEv[0], c='b', marker='o')\n",
    "    plt.plot(range(1, m+1), dataEv[0], 'b', label='PC - data')\n",
    "    # For the random data - Factors\n",
    "    plt.plot(range(1, m+1), avgFactorEigens, 'g', label='FA - random', alpha=0.4)\n",
    "    # For the Data - Factors\n",
    "    plt.scatter(range(1, m+1), dataEv[1], c='g', marker='o')\n",
    "    plt.plot(range(1, m+1), dataEv[1], 'g', label='FA - data')\n",
    "    plt.title('Parallel Analysis Scree Plots', {'fontsize': 20})\n",
    "    plt.xlabel('Factors/Components', {'fontsize': 15})\n",
    "    plt.xticks(ticks=range(1, m+1), labels=range(1, m+1))\n",
    "    plt.ylabel('Eigenvalue', {'fontsize': 15})\n",
    "    plt.legend()\n",
    "    plt.show();"
   ]
  },
  {
   "cell_type": "code",
   "execution_count": 29,
   "metadata": {},
   "outputs": [
    {
     "name": "stdout",
     "output_type": "stream",
     "text": [
      "Principal component eigenvalues for random matrix:\n",
      " [3.89862279 3.48773389 3.21470561 2.95951372 2.76868758 2.57391855\n",
      " 2.40719122 2.25087955 2.10834837 1.97437562 1.84440832 1.73386739\n",
      " 1.62284172 1.51788216 1.42360976 1.32569464 1.24127324 1.15269119\n",
      " 1.07104046 0.9990055  0.93847058 0.86983946 0.81350992 0.75903542\n",
      " 0.7036272  0.65251361 0.61078734 0.56443628 0.53212714 0.49926669\n",
      " 0.46930059 0.44690841 0.42234163 0.40259028 0.38779693 0.37617758\n",
      " 0.36783142 0.36314823]\n",
      "Factor eigenvalues for random matrix:\n",
      " [ 2.72445569  2.20003228  1.94043012  1.69847655  1.51640606  1.33229642\n",
      "  1.1757848   1.02802927  0.90056374  0.77905894  0.65721021  0.55764574\n",
      "  0.46063929  0.37007116  0.28388265  0.19340886  0.12252027  0.04529432\n",
      " -0.02719257 -0.09210152 -0.14039705 -0.19281773 -0.24158372 -0.28574382\n",
      " -0.32821912 -0.36861604 -0.40649604 -0.43690025 -0.46299222 -0.48386069\n",
      " -0.50543078 -0.52161962 -0.53769025 -0.55056022 -0.55969016 -0.56685164\n",
      " -0.57312612 -0.57986113]\n",
      "Principal component eigenvalues for data:\n",
      " [1.97785322e+01 7.68115414e+00 5.18567523e+00 1.99086950e+00\n",
      " 1.33371452e+00 9.86771997e-01 4.79148102e-01 2.07106941e-01\n",
      " 1.14917809e-01 7.03555700e-02 4.80910680e-02 3.85746454e-02\n",
      " 2.45033319e-02 1.64434276e-02 1.32950191e-02 9.24454647e-03\n",
      " 8.68575051e-03 4.78054030e-03 2.29488559e-03 1.63764676e-03\n",
      " 1.11677713e-03 1.04598641e-03 8.67749238e-04 5.63216516e-04\n",
      " 1.82318048e-04 1.40890113e-04 9.49742356e-05 7.76517247e-05\n",
      " 4.02280494e-05 2.87981220e-05 1.70896660e-05 1.23786972e-05\n",
      " 7.01009105e-06 5.21731376e-06 1.62817034e-06 9.80766635e-07\n",
      " 2.71920476e-07 6.31591268e-10]\n",
      "Factor eigenvalues for data:\n",
      " [19.58210834  6.88274251  4.37275418  1.17403223  0.63102475  0.46886836\n",
      " -0.03833625 -0.05608046 -0.06268618 -0.07527815 -0.07893404 -0.08490255\n",
      " -0.09020678 -0.09368915 -0.09592191 -0.09702025 -0.10343576 -0.10768548\n",
      " -0.1129003  -0.12241174 -0.17667717 -0.20303848 -0.24709306 -0.35885505\n",
      " -0.42432093 -0.51604852 -0.62295    -0.7091153  -0.74827262 -0.84769271\n",
      " -0.88521169 -0.91023331 -0.91614781 -0.92872665 -0.94103033 -0.94777331\n",
      " -0.94948655 -0.97725834]\n",
      "Parallel analysis suggests that the number of factors =  3  and the number of components =  3\n"
     ]
    },
    {
     "data": {
      "image/png": "[encoded data removed]",
      "text/plain": [
       "<Figure size 576x432 with 1 Axes>"
      ]
     },
     "metadata": {
      "needs_background": "light"
     },
     "output_type": "display_data"
    }
   ],
   "source": [
    "_HornParallelAnalysis(PV_train, K=100)"
   ]
  },
  {
   "cell_type": "code",
   "execution_count": 116,
   "metadata": {},
   "outputs": [
    {
     "data": {
      "text/plain": [
       "(100.00000000000003,\n",
       " array([4.63807535e+01, 2.35305093e+01, 1.54116591e+01, 4.20430922e+00,\n",
       "        3.04514795e+00, 2.64694507e+00, 2.26039305e+00, 1.01889452e+00,\n",
       "        4.59697829e-01, 3.08433188e-01, 2.11346453e-01, 1.57127899e-01,\n",
       "        1.38435070e-01, 7.35426066e-02, 5.11504469e-02, 2.90021362e-02,\n",
       "        2.16281356e-02, 1.69190898e-02, 8.76561810e-03, 7.67622227e-03,\n",
       "        4.55107523e-03, 4.14747521e-03, 2.73155699e-03, 1.90962110e-03,\n",
       "        1.60070537e-03, 9.51894811e-04, 6.44214118e-04, 3.35162226e-04,\n",
       "        2.91176677e-04, 1.60730818e-04, 1.04550492e-04, 7.51811079e-05,\n",
       "        6.48683520e-05, 3.53970919e-05, 2.37472952e-05, 2.01660374e-05,\n",
       "        9.71602925e-06, 6.36887085e-06]))"
      ]
     },
     "execution_count": 116,
     "metadata": {},
     "output_type": "execute_result"
    }
   ],
   "source": [
    "from sklearn.decomposition import PCA\n",
    "\n",
    "pca_full = PCA(n_components=PVs_scaled.shape[1])\n",
    "pca_full.fit(PVs_scaled)\n",
    "x_pca_full = pca_full.transform(PVs_scaled)\n",
    "\n",
    "# Variance explained by all features (should always be 100)\n",
    "sum(pca_full.explained_variance_ratio_ * 100), pca_full.explained_variance_ratio_ * 100"
   ]
  },
  {
   "cell_type": "code",
   "execution_count": 117,
   "metadata": {},
   "outputs": [
    {
     "data": {
      "image/png": "[encoded data removed]",
      "text/plain": [
       "<Figure size 432x288 with 1 Axes>"
      ]
     },
     "metadata": {
      "needs_background": "light"
     },
     "output_type": "display_data"
    }
   ],
   "source": [
    "plt.plot(pca_full.explained_variance_ratio_)\n",
    "plt.xlabel('Principle Components')\n",
    "plt.ylabel('Explained Variance')\n",
    "plt.show()"
   ]
  },
  {
   "cell_type": "code",
   "execution_count": 118,
   "metadata": {},
   "outputs": [
    {
     "name": "stdout",
     "output_type": "stream",
     "text": [
      "Variance explained for 0 components is: 46.38075349008349\n",
      "Variance explained for 1 components is: 69.91126277435583\n",
      "Variance explained for 2 components is: 85.32292187654073\n",
      "Variance explained for 3 components is: 89.52723110098931\n",
      "Variance explained for 4 components is: 92.57237905152655\n",
      "Variance explained for 5 components is: 95.21932412046873\n",
      "Variance explained for 6 components is: 97.4797171724022\n",
      "Variance explained for 7 components is: 98.4986116966246\n",
      "Variance explained for 8 components is: 98.95830952594422\n",
      "Variance explained for 9 components is: 99.26674271413874\n"
     ]
    }
   ],
   "source": [
    "for i in range(10):\n",
    "    print('Variance explained for', i, 'components is:',  np.cumsum(pca_full.explained_variance_ratio_ * 100)[i])"
   ]
  },
  {
   "cell_type": "code",
   "execution_count": 119,
   "metadata": {},
   "outputs": [
    {
     "data": {
      "text/html": [
       "<div>\n",
       "<style scoped>\n",
       "    .dataframe tbody tr th:only-of-type {\n",
       "        vertical-align: middle;\n",
       "    }\n",
       "\n",
       "    .dataframe tbody tr th {\n",
       "        vertical-align: top;\n",
       "    }\n",
       "\n",
       "    .dataframe thead th {\n",
       "        text-align: right;\n",
       "    }\n",
       "</style>\n",
       "<table border=\"1\" class=\"dataframe\">\n",
       "  <thead>\n",
       "    <tr style=\"text-align: right;\">\n",
       "      <th></th>\n",
       "      <th>PC1</th>\n",
       "      <th>PC2</th>\n",
       "      <th>PC3</th>\n",
       "      <th>PC4</th>\n",
       "      <th>PC5</th>\n",
       "      <th>PC6</th>\n",
       "    </tr>\n",
       "  </thead>\n",
       "  <tbody>\n",
       "    <tr>\n",
       "      <th>0</th>\n",
       "      <td>-0.287553</td>\n",
       "      <td>0.065170</td>\n",
       "      <td>-0.032305</td>\n",
       "      <td>-0.007275</td>\n",
       "      <td>0.062422</td>\n",
       "      <td>-0.044227</td>\n",
       "    </tr>\n",
       "    <tr>\n",
       "      <th>1</th>\n",
       "      <td>-0.082031</td>\n",
       "      <td>-0.079675</td>\n",
       "      <td>-0.069643</td>\n",
       "      <td>0.061157</td>\n",
       "      <td>-0.043010</td>\n",
       "      <td>-0.064332</td>\n",
       "    </tr>\n",
       "    <tr>\n",
       "      <th>2</th>\n",
       "      <td>0.063184</td>\n",
       "      <td>-0.342718</td>\n",
       "      <td>-0.211292</td>\n",
       "      <td>-0.008905</td>\n",
       "      <td>-0.094022</td>\n",
       "      <td>-0.091861</td>\n",
       "    </tr>\n",
       "    <tr>\n",
       "      <th>3</th>\n",
       "      <td>0.013328</td>\n",
       "      <td>-0.091238</td>\n",
       "      <td>-0.151837</td>\n",
       "      <td>0.002168</td>\n",
       "      <td>-0.105391</td>\n",
       "      <td>0.041861</td>\n",
       "    </tr>\n",
       "    <tr>\n",
       "      <th>4</th>\n",
       "      <td>-0.014683</td>\n",
       "      <td>-0.143565</td>\n",
       "      <td>-0.175982</td>\n",
       "      <td>-0.023939</td>\n",
       "      <td>-0.060824</td>\n",
       "      <td>-0.045757</td>\n",
       "    </tr>\n",
       "  </tbody>\n",
       "</table>\n",
       "</div>"
      ],
      "text/plain": [
       "        PC1       PC2       PC3       PC4       PC5       PC6\n",
       "0 -0.287553  0.065170 -0.032305 -0.007275  0.062422 -0.044227\n",
       "1 -0.082031 -0.079675 -0.069643  0.061157 -0.043010 -0.064332\n",
       "2  0.063184 -0.342718 -0.211292 -0.008905 -0.094022 -0.091861\n",
       "3  0.013328 -0.091238 -0.151837  0.002168 -0.105391  0.041861\n",
       "4 -0.014683 -0.143565 -0.175982 -0.023939 -0.060824 -0.045757"
      ]
     },
     "execution_count": 119,
     "metadata": {},
     "output_type": "execute_result"
    }
   ],
   "source": [
    "pca_95 = PCA(n_components = 0.95)\n",
    "pca_95.fit(PVs_scaled)\n",
    "x_pca_95 = pca_95.transform(PVs_scaled)\n",
    "\n",
    "PV_pca = pd.DataFrame(x_pca_95, columns=['PC' + str(i+1) for i in range(pca_95.explained_variance_ratio_.shape[0])])\n",
    "PV_pca.head()"
   ]
  },
  {
   "cell_type": "code",
   "execution_count": 120,
   "metadata": {},
   "outputs": [],
   "source": [
    "PV_pca_train, PV_pca_test = model_selection.train_test_split(PV_pca, test_size=0.2, random_state=42)"
   ]
  },
  {
   "cell_type": "code",
   "execution_count": 122,
   "metadata": {},
   "outputs": [
    {
     "data": {
      "text/plain": [
       "SVC(C=10000, degree=10, gamma='auto', kernel='linear', random_state=100)"
      ]
     },
     "execution_count": 122,
     "metadata": {},
     "output_type": "execute_result"
    }
   ],
   "source": [
    "# Train the classifier\n",
    "# Specify parameters\n",
    "kernel_choice = 'linear'\n",
    "# C is the Regularizaton Parameter\n",
    "# C Multiplies the Loss Function\n",
    "# So the lower C is, the Softer the penalty for violating the boundaries\n",
    "# So the higher C is, the Harder the penalty for violating the boundaries\n",
    "# C is related to the \"slack variable\", which determines how fuzzy the classificaton\n",
    "# boundaries are\n",
    "C = 10000\n",
    "gamma_choice = 'auto' # irrelevant for linear kernels\n",
    "degree_choice = 10 #irrelevant unless there is a polynomial kernel\n",
    "\n",
    "# Specify our object\n",
    "from sklearn.svm import SVC\n",
    "MySVC_pca = SVC(C = C, kernel = kernel_choice, gamma = gamma_choice, degree = degree_choice, random_state=100)\n",
    "\n",
    "# Train our SVC\n",
    "from sklearn.preprocessing import scale as CenterScale\n",
    "MySVC_pca.fit(CenterScale(PV_pca_train), OV_HvMDD_train)"
   ]
  },
  {
   "cell_type": "code",
   "execution_count": 123,
   "metadata": {},
   "outputs": [
    {
     "data": {
      "text/plain": [
       "SVC(C=10000, degree=10, gamma='auto', kernel='linear', random_state=100)"
      ]
     },
     "execution_count": 123,
     "metadata": {},
     "output_type": "execute_result"
    }
   ],
   "source": [
    "MySVC_pca"
   ]
  },
  {
   "cell_type": "code",
   "execution_count": 124,
   "metadata": {},
   "outputs": [
    {
     "name": "stdout",
     "output_type": "stream",
     "text": [
      "Number of Support Vectors for each Class = [14 13]\n",
      "AUC = 0.6166666666666667\n",
      "Balanced Accuracy = 0.6166666666666667\n",
      "F1 = 0.7142857142857143\n",
      "Matthews Correlation Coefficient: 0.2608745973749754\n",
      "Log Loss: 12.55977312472121\n"
     ]
    },
    {
     "data": {
      "text/plain": [
       "<sklearn.metrics._plot.confusion_matrix.ConfusionMatrixDisplay at 0x1dcf6ff6a70>"
      ]
     },
     "execution_count": 124,
     "metadata": {},
     "output_type": "execute_result"
    },
    {
     "data": {
      "image/png": "[encoded data removed]",
      "text/plain": [
       "<Figure size 432x288 with 2 Axes>"
      ]
     },
     "metadata": {
      "needs_background": "light"
     },
     "output_type": "display_data"
    }
   ],
   "source": [
    "# Explore our classifier\n",
    "print('Number of Support Vectors for each Class = ' + str(MySVC_pca.n_support_))\n",
    "#print('Median of Feature Weights (only available for Linear Kernel) = ' + str(np.median(MySVC.coef_)))\n",
    "#print('Maximum of Feature Weights (only available for Linear Kernel) = ' + str(np.max(MySVC.coef_)))\n",
    "\n",
    "# Test the classifier\n",
    "TestPred = MySVC_pca.predict(CenterScale(PV_pca_test))\n",
    "AUCResult = metrics.roc_auc_score(OV_HvMDD_test, TestPred)\n",
    "print('AUC = ' + str(AUCResult))\n",
    "BalAccResult = metrics.balanced_accuracy_score(OV_HvMDD_test, TestPred)\n",
    "print('Balanced Accuracy = ' + str(BalAccResult))\n",
    "F1Result = metrics.f1_score(OV_HvMDD_test, TestPred)\n",
    "print('F1 = ' + str(F1Result))\n",
    "\n",
    "print('Matthews Correlation Coefficient:', metrics.matthews_corrcoef(OV_HvMDD_test, TestPred))\n",
    "print('Log Loss:', metrics.log_loss(OV_HvMDD_test, TestPred))\n",
    "\n",
    "metrics.ConfusionMatrixDisplay(metrics.confusion_matrix(OV_HvMDD_test, TestPred)).plot()"
   ]
  }
 ],
 "metadata": {
  "kernelspec": {
   "display_name": "Python 3.10.8 64-bit (microsoft store)",
   "language": "python",
   "name": "python3"
  },
  "language_info": {
   "codemirror_mode": {
    "name": "ipython",
    "version": 3
   },
   "file_extension": ".py",
   "mimetype": "text/x-python",
   "name": "python",
   "nbconvert_exporter": "python",
   "pygments_lexer": "ipython3",
   "version": "3.10.9"
  },
  "orig_nbformat": 4,
  "vscode": {
   "interpreter": {
    "hash": "71ff51e25b4bcccf58cfa8143a99e0d0e18b57d48052f86f5f968012ec9dd68c"
   }
  }
 },
 "nbformat": 4,
 "nbformat_minor": 2
}
